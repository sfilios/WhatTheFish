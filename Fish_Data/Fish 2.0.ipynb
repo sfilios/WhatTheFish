{
 "cells": [
  {
   "cell_type": "code",
   "execution_count": 1,
   "metadata": {},
   "outputs": [],
   "source": [
    "import pandas as pd\n",
    "import numpy as np\n",
    "from rfpimp import *\n",
    "from sklearn.ensemble import RandomForestRegressor, RandomForestClassifier\n",
    "from fastai.imports import *\n",
    "\n",
    "from matplotlib import pyplot as plt\n",
    "import glob2 as glob\n",
    "from sklearn.preprocessing import LabelEncoder, Imputer, StandardScaler\n",
    "from pandas.api.types import is_string_dtype, is_numeric_dtype\n",
    "from sklearn.ensemble import forest\n",
    "from sklearn.tree import export_graphviz"
   ]
  },
  {
   "cell_type": "code",
   "execution_count": 2,
   "metadata": {},
   "outputs": [
    {
     "name": "stderr",
     "output_type": "stream",
     "text": [
      "/home/lubuntu/anaconda3/envs/project/lib/python3.6/site-packages/IPython/core/interactiveshell.py:3185: DtypeWarning: Columns (26,39,65,73) have mixed types. Specify dtype option on import or set low_memory=False.\n",
      "  if (yield from self.run_code(code, result)):\n",
      "/home/lubuntu/anaconda3/envs/project/lib/python3.6/site-packages/IPython/core/interactiveshell.py:3185: DtypeWarning: Columns (65) have mixed types. Specify dtype option on import or set low_memory=False.\n",
      "  if (yield from self.run_code(code, result)):\n"
     ]
    }
   ],
   "source": [
    "\n",
    "# size_2015 = pd.concat([pd.read_csv(f) for f in glob.glob('Past3years/size_2015*.csv')], ignore_index=True)\n",
    "# trip_2015 = pd.concat([pd.read_csv(f) for f in glob.glob('Past3years/trip_2015*.csv')], ignore_index = True)\n",
    "\n",
    "# size_2016 = pd.concat([pd.read_csv(f) for f in glob.glob('Past3years/size_2016*.csv')], ignore_index=True)\n",
    "# trip_2016 = pd.concat([pd.read_csv(f) for f in glob.glob('Past3years/trip_2016*.csv')], ignore_index = True)\n",
    "\n",
    "size_2017 = pd.concat([pd.read_csv(f) for f in glob.glob('Past3years/size_2017*.csv')], ignore_index=True)\n",
    "trip_2017 = pd.concat([pd.read_csv(f) for f in glob.glob('Past3years/trip_2017*.csv')], ignore_index = True)"
   ]
  },
  {
   "cell_type": "markdown",
   "metadata": {},
   "source": [
    "Many of the ID codes are messed up and aren't actually numbers...they end in XX instead. We will make these into NaN"
   ]
  },
  {
   "cell_type": "code",
   "execution_count": 3,
   "metadata": {},
   "outputs": [],
   "source": [
    "ids=[]\n",
    "for idno in trip_2017.ID_CODE:\n",
    "    try: ids.append(int(idno))\n",
    "    except: ids.append(np.nan)"
   ]
  },
  {
   "cell_type": "code",
   "execution_count": 4,
   "metadata": {},
   "outputs": [
    {
     "data": {
      "text/plain": [
       "68"
      ]
     },
     "execution_count": 4,
     "metadata": {},
     "output_type": "execute_result"
    }
   ],
   "source": [
    "trip_2017['new_id']=ids\n",
    "sum(trip_2017.new_id.isnull())"
   ]
  },
  {
   "cell_type": "code",
   "execution_count": 16,
   "metadata": {},
   "outputs": [],
   "source": [
    "# to_drop = []\n",
    "# for row in trip_2017.iterrows():\n",
    "#     print(row)\n",
    "#     #     try: int(row)\n",
    "# #     except:\n",
    "# #         to_drop.append(row)"
   ]
  },
  {
   "cell_type": "code",
   "execution_count": 17,
   "metadata": {},
   "outputs": [],
   "source": [
    "\n",
    "# x = 0\n",
    "# for items in size_2015: \n",
    "#     print(f'{items} {size_2015[items].dtype}')\n",
    "#     x+=1\n",
    "# print()\n",
    "# for items in trip_2015: \n",
    "#     print(f'{items} {trip_2015[items].dtype}')\n",
    "#     x+=1"
   ]
  },
  {
   "cell_type": "code",
   "execution_count": 18,
   "metadata": {},
   "outputs": [],
   "source": [
    "# # trip_2016.ID_CODE.astype(int, errors='ignore')\n",
    "# # trip_2016.month.dtype\n",
    "\n",
    "\n",
    "# def try_float(x):\n",
    "#     try:\n",
    "#         float(x)\n",
    "#         return True\n",
    "#     except:\n",
    "#         return False\n",
    "\n",
    "\n",
    "# ##make a function that will look for any data that can be made an int and do it, otherwise drop it\n",
    "# # trip_2016.iterrows()\n",
    "\n",
    "# # def id_fixer(df):\n",
    "# #     for row in df.iterrows():\n",
    "# #         try: int(df.ID_CODE[row])\n",
    "# #         except: row=np.nan\n",
    "\n",
    "# # id_fixer(trip_2016)"
   ]
  },
  {
   "cell_type": "code",
   "execution_count": 65,
   "metadata": {},
   "outputs": [],
   "source": [
    "# trip_2015 = pd.concat([pd.read_csv(f, dtype={'ID_CODE': np.int64}) for f in glob.glob('Past3years/trip_2015*.csv')], ignore_index = True)"
   ]
  },
  {
   "cell_type": "code",
   "execution_count": 66,
   "metadata": {},
   "outputs": [],
   "source": [
    "# print(f'size columns are {size.columns}')\n",
    "# print(f'trip columns are {trip.columns}')\n",
    "\n",
    "# data_2015 = pd.merge(size_2015, trip_2015, how='inner', on=['ID_CODE','AREA_X','ST','SUB_REG','WAVE','YEAR'])"
   ]
  },
  {
   "cell_type": "markdown",
   "metadata": {},
   "source": [
    "## Choose the columns that aren't obviously cheating:\n"
   ]
  },
  {
   "cell_type": "code",
   "execution_count": 5,
   "metadata": {},
   "outputs": [],
   "source": [
    "size_cols = ['AREA_X', 'ID_CODE', 'MODE_FX', 'ST', 'SUB_REG', 'WAVE', 'YEAR', 'kod', 'common'].copy()\n",
    "trip_cols = ['prim1_common', 'prim2_common', 'AREA', 'BOAT_HRS', 'CNTRBTRS','CNTY','CNTY_RES','COASTAL','DIST',\n",
    "            'FFDAYS12', 'FFDAYS2', 'GEAR', 'HRSF', 'new_id','MODE_F','month','new_list','PARTY',\n",
    "            'PVT_RES','REG_RES','ST_RES' ].copy()"
   ]
  },
  {
   "cell_type": "code",
   "execution_count": 6,
   "metadata": {},
   "outputs": [],
   "source": [
    "size2017 = size_2017[size_cols].copy()\n",
    "trip2017 = trip_2017[trip_cols].copy()\n"
   ]
  },
  {
   "cell_type": "code",
   "execution_count": 31,
   "metadata": {},
   "outputs": [],
   "source": [
    "# trip2017.ID_CODE"
   ]
  },
  {
   "cell_type": "code",
   "execution_count": 7,
   "metadata": {},
   "outputs": [],
   "source": [
    "merged = pd.merge(size2017,trip2017,how='inner', left_on=['ID_CODE'], right_on=['new_id'])"
   ]
  },
  {
   "cell_type": "code",
   "execution_count": 8,
   "metadata": {},
   "outputs": [
    {
     "name": "stdout",
     "output_type": "stream",
     "text": [
      "35662\n",
      "176809\n"
     ]
    }
   ],
   "source": [
    "print(sum(merged.common.isnull()))\n",
    "print(len(merged.common))"
   ]
  },
  {
   "cell_type": "markdown",
   "metadata": {},
   "source": [
    "Drop the fish that you don't have any name for. We can't use these for training."
   ]
  },
  {
   "cell_type": "code",
   "execution_count": 9,
   "metadata": {},
   "outputs": [],
   "source": [
    "mask = merged.common.isnull()\n",
    "data = merged[mask==False]"
   ]
  },
  {
   "cell_type": "markdown",
   "metadata": {},
   "source": [
    "fill the NA values of \"primary fish sought\" using \"NONE\" for NA values"
   ]
  },
  {
   "cell_type": "code",
   "execution_count": 10,
   "metadata": {},
   "outputs": [
    {
     "name": "stderr",
     "output_type": "stream",
     "text": [
      "/home/lubuntu/anaconda3/envs/project/lib/python3.6/site-packages/pandas/core/generic.py:5434: SettingWithCopyWarning: \n",
      "A value is trying to be set on a copy of a slice from a DataFrame\n",
      "\n",
      "See the caveats in the documentation: http://pandas.pydata.org/pandas-docs/stable/indexing.html#indexing-view-versus-copy\n",
      "  self._update_inplace(new_data)\n"
     ]
    }
   ],
   "source": [
    "data.prim1_common.fillna(value='NONE', inplace=True)"
   ]
  },
  {
   "cell_type": "code",
   "execution_count": 11,
   "metadata": {},
   "outputs": [
    {
     "data": {
      "text/plain": [
       "(141147, 30)"
      ]
     },
     "execution_count": 11,
     "metadata": {},
     "output_type": "execute_result"
    }
   ],
   "source": [
    "data.shape"
   ]
  },
  {
   "cell_type": "code",
   "execution_count": 12,
   "metadata": {},
   "outputs": [
    {
     "data": {
      "text/html": [
       "<div>\n",
       "<style scoped>\n",
       "    .dataframe tbody tr th:only-of-type {\n",
       "        vertical-align: middle;\n",
       "    }\n",
       "\n",
       "    .dataframe tbody tr th {\n",
       "        vertical-align: top;\n",
       "    }\n",
       "\n",
       "    .dataframe thead th {\n",
       "        text-align: right;\n",
       "    }\n",
       "</style>\n",
       "<table border=\"1\" class=\"dataframe\">\n",
       "  <thead>\n",
       "    <tr style=\"text-align: right;\">\n",
       "      <th></th>\n",
       "      <th>count</th>\n",
       "      <th>mean</th>\n",
       "      <th>std</th>\n",
       "      <th>min</th>\n",
       "      <th>25%</th>\n",
       "      <th>50%</th>\n",
       "      <th>75%</th>\n",
       "      <th>max</th>\n",
       "    </tr>\n",
       "  </thead>\n",
       "  <tbody>\n",
       "    <tr>\n",
       "      <th>AREA_X</th>\n",
       "      <td>141147.0</td>\n",
       "      <td>3.284158e+00</td>\n",
       "      <td>1.637909e+00</td>\n",
       "      <td>1.000000e+00</td>\n",
       "      <td>2.000000e+00</td>\n",
       "      <td>3.000000e+00</td>\n",
       "      <td>5.000000e+00</td>\n",
       "      <td>5.000000e+00</td>\n",
       "    </tr>\n",
       "    <tr>\n",
       "      <th>ID_CODE</th>\n",
       "      <td>141147.0</td>\n",
       "      <td>1.611525e+15</td>\n",
       "      <td>2.192002e+14</td>\n",
       "      <td>1.000920e+15</td>\n",
       "      <td>1.563120e+15</td>\n",
       "      <td>1.723420e+15</td>\n",
       "      <td>1.764520e+15</td>\n",
       "      <td>2.771420e+15</td>\n",
       "    </tr>\n",
       "    <tr>\n",
       "      <th>MODE_FX</th>\n",
       "      <td>141147.0</td>\n",
       "      <td>5.437905e+00</td>\n",
       "      <td>1.439681e+00</td>\n",
       "      <td>3.000000e+00</td>\n",
       "      <td>4.000000e+00</td>\n",
       "      <td>5.000000e+00</td>\n",
       "      <td>7.000000e+00</td>\n",
       "      <td>7.000000e+00</td>\n",
       "    </tr>\n",
       "    <tr>\n",
       "      <th>ST</th>\n",
       "      <td>141147.0</td>\n",
       "      <td>2.469559e+01</td>\n",
       "      <td>1.386949e+01</td>\n",
       "      <td>1.000000e+00</td>\n",
       "      <td>1.200000e+01</td>\n",
       "      <td>2.500000e+01</td>\n",
       "      <td>3.700000e+01</td>\n",
       "      <td>5.100000e+01</td>\n",
       "    </tr>\n",
       "    <tr>\n",
       "      <th>SUB_REG</th>\n",
       "      <td>141147.0</td>\n",
       "      <td>5.559140e+00</td>\n",
       "      <td>1.162565e+00</td>\n",
       "      <td>4.000000e+00</td>\n",
       "      <td>4.000000e+00</td>\n",
       "      <td>6.000000e+00</td>\n",
       "      <td>7.000000e+00</td>\n",
       "      <td>7.000000e+00</td>\n",
       "    </tr>\n",
       "    <tr>\n",
       "      <th>WAVE</th>\n",
       "      <td>141147.0</td>\n",
       "      <td>3.856122e+00</td>\n",
       "      <td>1.249568e+00</td>\n",
       "      <td>1.000000e+00</td>\n",
       "      <td>3.000000e+00</td>\n",
       "      <td>4.000000e+00</td>\n",
       "      <td>5.000000e+00</td>\n",
       "      <td>6.000000e+00</td>\n",
       "    </tr>\n",
       "    <tr>\n",
       "      <th>YEAR</th>\n",
       "      <td>141147.0</td>\n",
       "      <td>2.017000e+03</td>\n",
       "      <td>0.000000e+00</td>\n",
       "      <td>2.017000e+03</td>\n",
       "      <td>2.017000e+03</td>\n",
       "      <td>2.017000e+03</td>\n",
       "      <td>2.017000e+03</td>\n",
       "      <td>2.017000e+03</td>\n",
       "    </tr>\n",
       "    <tr>\n",
       "      <th>BOAT_HRS</th>\n",
       "      <td>83618.0</td>\n",
       "      <td>6.805287e+00</td>\n",
       "      <td>3.665669e+00</td>\n",
       "      <td>1.000000e+00</td>\n",
       "      <td>4.500000e+00</td>\n",
       "      <td>6.500000e+00</td>\n",
       "      <td>8.500000e+00</td>\n",
       "      <td>9.990000e+01</td>\n",
       "    </tr>\n",
       "    <tr>\n",
       "      <th>CNTRBTRS</th>\n",
       "      <td>141147.0</td>\n",
       "      <td>2.238546e+00</td>\n",
       "      <td>1.959931e+00</td>\n",
       "      <td>0.000000e+00</td>\n",
       "      <td>1.000000e+00</td>\n",
       "      <td>1.000000e+00</td>\n",
       "      <td>3.000000e+00</td>\n",
       "      <td>2.000000e+01</td>\n",
       "    </tr>\n",
       "    <tr>\n",
       "      <th>CNTY</th>\n",
       "      <td>141147.0</td>\n",
       "      <td>7.909965e+01</td>\n",
       "      <td>1.541846e+02</td>\n",
       "      <td>1.000000e+00</td>\n",
       "      <td>1.100000e+01</td>\n",
       "      <td>3.700000e+01</td>\n",
       "      <td>8.700000e+01</td>\n",
       "      <td>8.100000e+02</td>\n",
       "    </tr>\n",
       "    <tr>\n",
       "      <th>CNTY_RES</th>\n",
       "      <td>141147.0</td>\n",
       "      <td>8.643536e+01</td>\n",
       "      <td>1.483222e+02</td>\n",
       "      <td>0.000000e+00</td>\n",
       "      <td>1.500000e+01</td>\n",
       "      <td>5.100000e+01</td>\n",
       "      <td>1.010000e+02</td>\n",
       "      <td>9.990000e+02</td>\n",
       "    </tr>\n",
       "    <tr>\n",
       "      <th>DIST</th>\n",
       "      <td>141147.0</td>\n",
       "      <td>4.525417e+00</td>\n",
       "      <td>3.020837e+00</td>\n",
       "      <td>1.000000e+00</td>\n",
       "      <td>2.000000e+00</td>\n",
       "      <td>3.000000e+00</td>\n",
       "      <td>8.000000e+00</td>\n",
       "      <td>8.000000e+00</td>\n",
       "    </tr>\n",
       "    <tr>\n",
       "      <th>FFDAYS12</th>\n",
       "      <td>141147.0</td>\n",
       "      <td>4.013502e+01</td>\n",
       "      <td>1.349660e+02</td>\n",
       "      <td>0.000000e+00</td>\n",
       "      <td>0.000000e+00</td>\n",
       "      <td>6.000000e+00</td>\n",
       "      <td>3.000000e+01</td>\n",
       "      <td>9.990000e+02</td>\n",
       "    </tr>\n",
       "    <tr>\n",
       "      <th>FFDAYS2</th>\n",
       "      <td>141147.0</td>\n",
       "      <td>5.921876e+00</td>\n",
       "      <td>1.363741e+01</td>\n",
       "      <td>0.000000e+00</td>\n",
       "      <td>0.000000e+00</td>\n",
       "      <td>1.000000e+00</td>\n",
       "      <td>6.000000e+00</td>\n",
       "      <td>9.900000e+01</td>\n",
       "    </tr>\n",
       "    <tr>\n",
       "      <th>GEAR</th>\n",
       "      <td>141121.0</td>\n",
       "      <td>1.055704e+00</td>\n",
       "      <td>5.935518e-01</td>\n",
       "      <td>1.000000e+00</td>\n",
       "      <td>1.000000e+00</td>\n",
       "      <td>1.000000e+00</td>\n",
       "      <td>1.000000e+00</td>\n",
       "      <td>1.000000e+01</td>\n",
       "    </tr>\n",
       "    <tr>\n",
       "      <th>HRSF</th>\n",
       "      <td>141121.0</td>\n",
       "      <td>4.503463e+00</td>\n",
       "      <td>2.507087e+00</td>\n",
       "      <td>5.000000e-01</td>\n",
       "      <td>3.000000e+00</td>\n",
       "      <td>4.000000e+00</td>\n",
       "      <td>5.500000e+00</td>\n",
       "      <td>9.980000e+01</td>\n",
       "    </tr>\n",
       "    <tr>\n",
       "      <th>new_id</th>\n",
       "      <td>141147.0</td>\n",
       "      <td>1.611525e+15</td>\n",
       "      <td>2.192002e+14</td>\n",
       "      <td>1.000920e+15</td>\n",
       "      <td>1.563120e+15</td>\n",
       "      <td>1.723420e+15</td>\n",
       "      <td>1.764520e+15</td>\n",
       "      <td>2.771420e+15</td>\n",
       "    </tr>\n",
       "    <tr>\n",
       "      <th>MODE_F</th>\n",
       "      <td>141147.0</td>\n",
       "      <td>6.719994e+00</td>\n",
       "      <td>1.815088e+00</td>\n",
       "      <td>1.000000e+00</td>\n",
       "      <td>6.000000e+00</td>\n",
       "      <td>7.000000e+00</td>\n",
       "      <td>8.000000e+00</td>\n",
       "      <td>8.000000e+00</td>\n",
       "    </tr>\n",
       "    <tr>\n",
       "      <th>month</th>\n",
       "      <td>141147.0</td>\n",
       "      <td>7.211290e+00</td>\n",
       "      <td>2.468382e+00</td>\n",
       "      <td>1.000000e+00</td>\n",
       "      <td>6.000000e+00</td>\n",
       "      <td>7.000000e+00</td>\n",
       "      <td>9.000000e+00</td>\n",
       "      <td>1.200000e+01</td>\n",
       "    </tr>\n",
       "    <tr>\n",
       "      <th>new_list</th>\n",
       "      <td>68394.0</td>\n",
       "      <td>1.046510e+00</td>\n",
       "      <td>2.105882e-01</td>\n",
       "      <td>1.000000e+00</td>\n",
       "      <td>1.000000e+00</td>\n",
       "      <td>1.000000e+00</td>\n",
       "      <td>1.000000e+00</td>\n",
       "      <td>2.000000e+00</td>\n",
       "    </tr>\n",
       "    <tr>\n",
       "      <th>PARTY</th>\n",
       "      <td>127377.0</td>\n",
       "      <td>9.564898e+00</td>\n",
       "      <td>1.402837e+01</td>\n",
       "      <td>1.000000e+00</td>\n",
       "      <td>2.000000e+00</td>\n",
       "      <td>4.000000e+00</td>\n",
       "      <td>7.000000e+00</td>\n",
       "      <td>1.040000e+02</td>\n",
       "    </tr>\n",
       "    <tr>\n",
       "      <th>PVT_RES</th>\n",
       "      <td>141147.0</td>\n",
       "      <td>1.065039e+00</td>\n",
       "      <td>6.819821e-01</td>\n",
       "      <td>1.000000e+00</td>\n",
       "      <td>1.000000e+00</td>\n",
       "      <td>1.000000e+00</td>\n",
       "      <td>1.000000e+00</td>\n",
       "      <td>9.000000e+00</td>\n",
       "    </tr>\n",
       "    <tr>\n",
       "      <th>REG_RES</th>\n",
       "      <td>141147.0</td>\n",
       "      <td>4.962720e+00</td>\n",
       "      <td>1.856098e+00</td>\n",
       "      <td>0.000000e+00</td>\n",
       "      <td>4.000000e+00</td>\n",
       "      <td>5.000000e+00</td>\n",
       "      <td>6.000000e+00</td>\n",
       "      <td>1.100000e+01</td>\n",
       "    </tr>\n",
       "    <tr>\n",
       "      <th>ST_RES</th>\n",
       "      <td>141147.0</td>\n",
       "      <td>2.722649e+01</td>\n",
       "      <td>1.571847e+01</td>\n",
       "      <td>0.000000e+00</td>\n",
       "      <td>1.200000e+01</td>\n",
       "      <td>2.500000e+01</td>\n",
       "      <td>3.700000e+01</td>\n",
       "      <td>9.900000e+01</td>\n",
       "    </tr>\n",
       "  </tbody>\n",
       "</table>\n",
       "</div>"
      ],
      "text/plain": [
       "             count          mean           std           min           25%  \\\n",
       "AREA_X    141147.0  3.284158e+00  1.637909e+00  1.000000e+00  2.000000e+00   \n",
       "ID_CODE   141147.0  1.611525e+15  2.192002e+14  1.000920e+15  1.563120e+15   \n",
       "MODE_FX   141147.0  5.437905e+00  1.439681e+00  3.000000e+00  4.000000e+00   \n",
       "ST        141147.0  2.469559e+01  1.386949e+01  1.000000e+00  1.200000e+01   \n",
       "SUB_REG   141147.0  5.559140e+00  1.162565e+00  4.000000e+00  4.000000e+00   \n",
       "WAVE      141147.0  3.856122e+00  1.249568e+00  1.000000e+00  3.000000e+00   \n",
       "YEAR      141147.0  2.017000e+03  0.000000e+00  2.017000e+03  2.017000e+03   \n",
       "BOAT_HRS   83618.0  6.805287e+00  3.665669e+00  1.000000e+00  4.500000e+00   \n",
       "CNTRBTRS  141147.0  2.238546e+00  1.959931e+00  0.000000e+00  1.000000e+00   \n",
       "CNTY      141147.0  7.909965e+01  1.541846e+02  1.000000e+00  1.100000e+01   \n",
       "CNTY_RES  141147.0  8.643536e+01  1.483222e+02  0.000000e+00  1.500000e+01   \n",
       "DIST      141147.0  4.525417e+00  3.020837e+00  1.000000e+00  2.000000e+00   \n",
       "FFDAYS12  141147.0  4.013502e+01  1.349660e+02  0.000000e+00  0.000000e+00   \n",
       "FFDAYS2   141147.0  5.921876e+00  1.363741e+01  0.000000e+00  0.000000e+00   \n",
       "GEAR      141121.0  1.055704e+00  5.935518e-01  1.000000e+00  1.000000e+00   \n",
       "HRSF      141121.0  4.503463e+00  2.507087e+00  5.000000e-01  3.000000e+00   \n",
       "new_id    141147.0  1.611525e+15  2.192002e+14  1.000920e+15  1.563120e+15   \n",
       "MODE_F    141147.0  6.719994e+00  1.815088e+00  1.000000e+00  6.000000e+00   \n",
       "month     141147.0  7.211290e+00  2.468382e+00  1.000000e+00  6.000000e+00   \n",
       "new_list   68394.0  1.046510e+00  2.105882e-01  1.000000e+00  1.000000e+00   \n",
       "PARTY     127377.0  9.564898e+00  1.402837e+01  1.000000e+00  2.000000e+00   \n",
       "PVT_RES   141147.0  1.065039e+00  6.819821e-01  1.000000e+00  1.000000e+00   \n",
       "REG_RES   141147.0  4.962720e+00  1.856098e+00  0.000000e+00  4.000000e+00   \n",
       "ST_RES    141147.0  2.722649e+01  1.571847e+01  0.000000e+00  1.200000e+01   \n",
       "\n",
       "                   50%           75%           max  \n",
       "AREA_X    3.000000e+00  5.000000e+00  5.000000e+00  \n",
       "ID_CODE   1.723420e+15  1.764520e+15  2.771420e+15  \n",
       "MODE_FX   5.000000e+00  7.000000e+00  7.000000e+00  \n",
       "ST        2.500000e+01  3.700000e+01  5.100000e+01  \n",
       "SUB_REG   6.000000e+00  7.000000e+00  7.000000e+00  \n",
       "WAVE      4.000000e+00  5.000000e+00  6.000000e+00  \n",
       "YEAR      2.017000e+03  2.017000e+03  2.017000e+03  \n",
       "BOAT_HRS  6.500000e+00  8.500000e+00  9.990000e+01  \n",
       "CNTRBTRS  1.000000e+00  3.000000e+00  2.000000e+01  \n",
       "CNTY      3.700000e+01  8.700000e+01  8.100000e+02  \n",
       "CNTY_RES  5.100000e+01  1.010000e+02  9.990000e+02  \n",
       "DIST      3.000000e+00  8.000000e+00  8.000000e+00  \n",
       "FFDAYS12  6.000000e+00  3.000000e+01  9.990000e+02  \n",
       "FFDAYS2   1.000000e+00  6.000000e+00  9.900000e+01  \n",
       "GEAR      1.000000e+00  1.000000e+00  1.000000e+01  \n",
       "HRSF      4.000000e+00  5.500000e+00  9.980000e+01  \n",
       "new_id    1.723420e+15  1.764520e+15  2.771420e+15  \n",
       "MODE_F    7.000000e+00  8.000000e+00  8.000000e+00  \n",
       "month     7.000000e+00  9.000000e+00  1.200000e+01  \n",
       "new_list  1.000000e+00  1.000000e+00  2.000000e+00  \n",
       "PARTY     4.000000e+00  7.000000e+00  1.040000e+02  \n",
       "PVT_RES   1.000000e+00  1.000000e+00  9.000000e+00  \n",
       "REG_RES   5.000000e+00  6.000000e+00  1.100000e+01  \n",
       "ST_RES    2.500000e+01  3.700000e+01  9.900000e+01  "
      ]
     },
     "execution_count": 12,
     "metadata": {},
     "output_type": "execute_result"
    }
   ],
   "source": [
    "data.describe().T"
   ]
  },
  {
   "cell_type": "markdown",
   "metadata": {},
   "source": [
    "To DO: FILLNA for new_list (is the vehicle on a list?)\n",
    "FILLNA FOR PARTY\n",
    "FILLNA FOR HRSF\n",
    "FILLNA FOR GEAR, BOAT HRS\n",
    "\n",
    "This should all be taken care of by proc_df"
   ]
  },
  {
   "cell_type": "code",
   "execution_count": 14,
   "metadata": {},
   "outputs": [
    {
     "data": {
      "text/html": [
       "<div>\n",
       "<style scoped>\n",
       "    .dataframe tbody tr th:only-of-type {\n",
       "        vertical-align: middle;\n",
       "    }\n",
       "\n",
       "    .dataframe tbody tr th {\n",
       "        vertical-align: top;\n",
       "    }\n",
       "\n",
       "    .dataframe thead th {\n",
       "        text-align: right;\n",
       "    }\n",
       "</style>\n",
       "<table border=\"1\" class=\"dataframe\">\n",
       "  <thead>\n",
       "    <tr style=\"text-align: right;\">\n",
       "      <th></th>\n",
       "      <th>AREA_X</th>\n",
       "      <th>ID_CODE</th>\n",
       "      <th>MODE_FX</th>\n",
       "      <th>ST</th>\n",
       "      <th>SUB_REG</th>\n",
       "      <th>WAVE</th>\n",
       "      <th>YEAR</th>\n",
       "      <th>kod</th>\n",
       "      <th>common</th>\n",
       "      <th>prim1_common</th>\n",
       "      <th>...</th>\n",
       "      <th>GEAR</th>\n",
       "      <th>HRSF</th>\n",
       "      <th>new_id</th>\n",
       "      <th>MODE_F</th>\n",
       "      <th>month</th>\n",
       "      <th>new_list</th>\n",
       "      <th>PARTY</th>\n",
       "      <th>PVT_RES</th>\n",
       "      <th>REG_RES</th>\n",
       "      <th>ST_RES</th>\n",
       "    </tr>\n",
       "  </thead>\n",
       "  <tbody>\n",
       "    <tr>\n",
       "      <th>9</th>\n",
       "      <td>5</td>\n",
       "      <td>1748920170908007</td>\n",
       "      <td>3</td>\n",
       "      <td>9</td>\n",
       "      <td>4</td>\n",
       "      <td>5</td>\n",
       "      <td>2017</td>\n",
       "      <td>we</td>\n",
       "      <td>ATLANTIC SILVERSIDE</td>\n",
       "      <td>NONE</td>\n",
       "      <td>...</td>\n",
       "      <td>3.0</td>\n",
       "      <td>6.0</td>\n",
       "      <td>1.748920e+15</td>\n",
       "      <td>1.0</td>\n",
       "      <td>9</td>\n",
       "      <td>NaN</td>\n",
       "      <td>NaN</td>\n",
       "      <td>1.0</td>\n",
       "      <td>4.0</td>\n",
       "      <td>9.0</td>\n",
       "    </tr>\n",
       "    <tr>\n",
       "      <th>13</th>\n",
       "      <td>5</td>\n",
       "      <td>1748920170927002</td>\n",
       "      <td>3</td>\n",
       "      <td>9</td>\n",
       "      <td>4</td>\n",
       "      <td>5</td>\n",
       "      <td>2017</td>\n",
       "      <td>wd</td>\n",
       "      <td>ATLANTIC MENHADEN</td>\n",
       "      <td>BLUEFISH</td>\n",
       "      <td>...</td>\n",
       "      <td>1.0</td>\n",
       "      <td>8.0</td>\n",
       "      <td>1.748920e+15</td>\n",
       "      <td>1.0</td>\n",
       "      <td>9</td>\n",
       "      <td>NaN</td>\n",
       "      <td>NaN</td>\n",
       "      <td>1.0</td>\n",
       "      <td>4.0</td>\n",
       "      <td>9.0</td>\n",
       "    </tr>\n",
       "    <tr>\n",
       "      <th>14</th>\n",
       "      <td>5</td>\n",
       "      <td>1748920170927002</td>\n",
       "      <td>3</td>\n",
       "      <td>9</td>\n",
       "      <td>4</td>\n",
       "      <td>5</td>\n",
       "      <td>2017</td>\n",
       "      <td>wd</td>\n",
       "      <td>ATLANTIC MENHADEN</td>\n",
       "      <td>BLUEFISH</td>\n",
       "      <td>...</td>\n",
       "      <td>1.0</td>\n",
       "      <td>8.0</td>\n",
       "      <td>1.748920e+15</td>\n",
       "      <td>1.0</td>\n",
       "      <td>9</td>\n",
       "      <td>NaN</td>\n",
       "      <td>NaN</td>\n",
       "      <td>1.0</td>\n",
       "      <td>4.0</td>\n",
       "      <td>9.0</td>\n",
       "    </tr>\n",
       "    <tr>\n",
       "      <th>15</th>\n",
       "      <td>5</td>\n",
       "      <td>1748920170927002</td>\n",
       "      <td>3</td>\n",
       "      <td>9</td>\n",
       "      <td>4</td>\n",
       "      <td>5</td>\n",
       "      <td>2017</td>\n",
       "      <td>wd</td>\n",
       "      <td>ATLANTIC MENHADEN</td>\n",
       "      <td>BLUEFISH</td>\n",
       "      <td>...</td>\n",
       "      <td>1.0</td>\n",
       "      <td>8.0</td>\n",
       "      <td>1.748920e+15</td>\n",
       "      <td>1.0</td>\n",
       "      <td>9</td>\n",
       "      <td>NaN</td>\n",
       "      <td>NaN</td>\n",
       "      <td>1.0</td>\n",
       "      <td>4.0</td>\n",
       "      <td>9.0</td>\n",
       "    </tr>\n",
       "    <tr>\n",
       "      <th>16</th>\n",
       "      <td>5</td>\n",
       "      <td>1748920170927002</td>\n",
       "      <td>3</td>\n",
       "      <td>9</td>\n",
       "      <td>4</td>\n",
       "      <td>5</td>\n",
       "      <td>2017</td>\n",
       "      <td>wd</td>\n",
       "      <td>ATLANTIC MENHADEN</td>\n",
       "      <td>BLUEFISH</td>\n",
       "      <td>...</td>\n",
       "      <td>1.0</td>\n",
       "      <td>8.0</td>\n",
       "      <td>1.748920e+15</td>\n",
       "      <td>1.0</td>\n",
       "      <td>9</td>\n",
       "      <td>NaN</td>\n",
       "      <td>NaN</td>\n",
       "      <td>1.0</td>\n",
       "      <td>4.0</td>\n",
       "      <td>9.0</td>\n",
       "    </tr>\n",
       "  </tbody>\n",
       "</table>\n",
       "<p>5 rows × 30 columns</p>\n",
       "</div>"
      ],
      "text/plain": [
       "    AREA_X           ID_CODE  MODE_FX  ST  SUB_REG  WAVE  YEAR kod  \\\n",
       "9        5  1748920170908007        3   9        4     5  2017  we   \n",
       "13       5  1748920170927002        3   9        4     5  2017  wd   \n",
       "14       5  1748920170927002        3   9        4     5  2017  wd   \n",
       "15       5  1748920170927002        3   9        4     5  2017  wd   \n",
       "16       5  1748920170927002        3   9        4     5  2017  wd   \n",
       "\n",
       "                 common prim1_common   ...   GEAR HRSF        new_id  MODE_F  \\\n",
       "9   ATLANTIC SILVERSIDE         NONE   ...    3.0  6.0  1.748920e+15     1.0   \n",
       "13    ATLANTIC MENHADEN     BLUEFISH   ...    1.0  8.0  1.748920e+15     1.0   \n",
       "14    ATLANTIC MENHADEN     BLUEFISH   ...    1.0  8.0  1.748920e+15     1.0   \n",
       "15    ATLANTIC MENHADEN     BLUEFISH   ...    1.0  8.0  1.748920e+15     1.0   \n",
       "16    ATLANTIC MENHADEN     BLUEFISH   ...    1.0  8.0  1.748920e+15     1.0   \n",
       "\n",
       "    month  new_list PARTY  PVT_RES  REG_RES  ST_RES  \n",
       "9       9       NaN   NaN      1.0      4.0     9.0  \n",
       "13      9       NaN   NaN      1.0      4.0     9.0  \n",
       "14      9       NaN   NaN      1.0      4.0     9.0  \n",
       "15      9       NaN   NaN      1.0      4.0     9.0  \n",
       "16      9       NaN   NaN      1.0      4.0     9.0  \n",
       "\n",
       "[5 rows x 30 columns]"
      ]
     },
     "execution_count": 14,
     "metadata": {},
     "output_type": "execute_result"
    }
   ],
   "source": [
    "data.head()"
   ]
  },
  {
   "cell_type": "code",
   "execution_count": 15,
   "metadata": {},
   "outputs": [],
   "source": [
    "# import seaborn as sns\n",
    "# sns.heatmap(correlation,square = True,  vmax=0.8)"
   ]
  },
  {
   "cell_type": "markdown",
   "metadata": {},
   "source": [
    "Combine the trip and species data for each year"
   ]
  },
  {
   "cell_type": "code",
   "execution_count": 34,
   "metadata": {},
   "outputs": [],
   "source": [
    "# data_2015 = pd.concat([size_2015, trip_2015], join='inner', on=['ID_CODE','AREA_X','ST','SUB_REG','WAVE','YEAR','kod'])\n",
    "# data_2016 = pd.merge(size_2016, trip_2016, how='inner', on=['ID_CODE','AREA_X','ST','SUB_REG','WAVE','YEAR','kod'])\n",
    "# data_2017 = pd.merge(size_2017, trip_2017, how='inner', on=['ID_CODE','AREA_X','ST','SUB_REG','WAVE','YEAR','kod'])"
   ]
  },
  {
   "cell_type": "markdown",
   "metadata": {},
   "source": [
    "Combine the years"
   ]
  },
  {
   "cell_type": "code",
   "execution_count": 35,
   "metadata": {},
   "outputs": [],
   "source": [
    "# data_all = [data_2]"
   ]
  },
  {
   "cell_type": "code",
   "execution_count": 36,
   "metadata": {},
   "outputs": [],
   "source": [
    "# size_2015.tail()"
   ]
  },
  {
   "cell_type": "code",
   "execution_count": 16,
   "metadata": {},
   "outputs": [
    {
     "data": {
      "text/plain": [
       "<matplotlib.axes._subplots.AxesSubplot at 0x7fdf6aeb2b70>"
      ]
     },
     "execution_count": 16,
     "metadata": {},
     "output_type": "execute_result"
    },
    {
     "data": {
      "image/png": "[encoded data removed]",
      "text/plain": [
       "<Figure size 432x288 with 1 Axes>"
      ]
     },
     "metadata": {
      "needs_background": "light"
     },
     "output_type": "display_data"
    }
   ],
   "source": [
    "counts = merged['common'].value_counts()\n",
    "counts.sort_values(inplace=True)\n",
    "\n",
    "counts[-10:].plot(kind='bar')"
   ]
  },
  {
   "cell_type": "code",
   "execution_count": 17,
   "metadata": {},
   "outputs": [
    {
     "data": {
      "text/plain": [
       "[2.422297321232474,\n",
       " 2.731903618213636,\n",
       " 3.020963959559891,\n",
       " 3.714567082545148,\n",
       " 4.171537475114597,\n",
       " 4.836801348948259,\n",
       " 5.018172543518459,\n",
       " 5.327070359270831,\n",
       " 7.54532508661183,\n",
       " 9.446888704683769]"
      ]
     },
     "execution_count": 17,
     "metadata": {},
     "output_type": "execute_result"
    }
   ],
   "source": [
    "fish = counts.sum()\n",
    "rates = [x/fish*100 for x in counts]\n",
    "rates[-10:]"
   ]
  },
  {
   "cell_type": "code",
   "execution_count": null,
   "metadata": {},
   "outputs": [],
   "source": []
  },
  {
   "cell_type": "code",
   "execution_count": 39,
   "metadata": {},
   "outputs": [],
   "source": [
    "# size_cols = ['ID_CODE', 'kod', 'common']\n",
    "# trip_cols = ['ID_CODE', 'prim1_common', 'CNTRBTRS', 'COUNTY', 'AREA_X']\n",
    "\n",
    "# small_size = size[size_cols].copy()\n",
    "# small_trip = trip[trip_cols].copy()"
   ]
  },
  {
   "cell_type": "code",
   "execution_count": 40,
   "metadata": {},
   "outputs": [],
   "source": [
    "# small_data = pd.merge(small_size, small_trip, how='inner', on='ID_CODE')"
   ]
  },
  {
   "cell_type": "code",
   "execution_count": 48,
   "metadata": {},
   "outputs": [],
   "source": [
    "# mask = small_data.common.isnull()\n",
    "# data = small_data[mask==False]"
   ]
  },
  {
   "cell_type": "code",
   "execution_count": 49,
   "metadata": {},
   "outputs": [],
   "source": [
    "# ~mask would give inverse of mask boolean\n",
    "# data.ID_CODE\n",
    "\n",
    "# lister = [1038919950113003,1038919950113003]\n"
   ]
  },
  {
   "cell_type": "code",
   "execution_count": 50,
   "metadata": {},
   "outputs": [
    {
     "data": {
      "text/plain": [
       "(118039, 39)"
      ]
     },
     "execution_count": 50,
     "metadata": {},
     "output_type": "execute_result"
    }
   ],
   "source": [
    "# data.shape"
   ]
  },
  {
   "cell_type": "code",
   "execution_count": 18,
   "metadata": {},
   "outputs": [],
   "source": [
    "na_counts=[]\n",
    "for column in data:\n",
    "    na_counts.append(sum(data[column].isna()))"
   ]
  },
  {
   "cell_type": "code",
   "execution_count": 19,
   "metadata": {},
   "outputs": [
    {
     "data": {
      "text/plain": [
       "[0,\n",
       " 0,\n",
       " 0,\n",
       " 0,\n",
       " 0,\n",
       " 0,\n",
       " 0,\n",
       " 28605,\n",
       " 0,\n",
       " 0,\n",
       " 107036,\n",
       " 0,\n",
       " 57529,\n",
       " 0,\n",
       " 0,\n",
       " 0,\n",
       " 0,\n",
       " 0,\n",
       " 0,\n",
       " 0,\n",
       " 26,\n",
       " 26,\n",
       " 0,\n",
       " 0,\n",
       " 0,\n",
       " 72753,\n",
       " 13770,\n",
       " 0,\n",
       " 0,\n",
       " 0]"
      ]
     },
     "execution_count": 19,
     "metadata": {},
     "output_type": "execute_result"
    }
   ],
   "source": [
    "na_counts"
   ]
  },
  {
   "cell_type": "code",
   "execution_count": null,
   "metadata": {},
   "outputs": [],
   "source": []
  },
  {
   "cell_type": "code",
   "execution_count": 57,
   "metadata": {},
   "outputs": [],
   "source": [
    "# data['prim1_common'].fillna('Anything', inplace=True)"
   ]
  },
  {
   "cell_type": "code",
   "execution_count": 51,
   "metadata": {},
   "outputs": [
    {
     "data": {
      "text/plain": [
       "19950113003"
      ]
     },
     "execution_count": 51,
     "metadata": {},
     "output_type": "execute_result"
    }
   ],
   "source": [
    "a= 1038919950113003\n",
    "\n",
    "n= a%(10**11)\n",
    "n"
   ]
  },
  {
   "cell_type": "code",
   "execution_count": 52,
   "metadata": {},
   "outputs": [
    {
     "data": {
      "text/plain": [
       "19950113"
      ]
     },
     "execution_count": 52,
     "metadata": {},
     "output_type": "execute_result"
    }
   ],
   "source": [
    "n//10**3"
   ]
  },
  {
   "cell_type": "code",
   "execution_count": 20,
   "metadata": {},
   "outputs": [],
   "source": [
    "def train_cats(df):\n",
    "    \"\"\"Change any columns of strings in a panda's dataframe to a column of\n",
    "    categorical values. This applies the changes inplace.\n",
    "    Parameters:\n",
    "    -----------\n",
    "    df: A pandas dataframe. Any columns of strings will be changed to\n",
    "        categorical values.\n",
    "    Examples:\n",
    "    ---------\n",
    "    >>> df = pd.DataFrame({'col1' : [1, 2, 3], 'col2' : ['a', 'b', 'a']})\n",
    "    >>> df\n",
    "       col1 col2\n",
    "    0     1    a\n",
    "    1     2    b\n",
    "    2     3    a\n",
    "    note the type of col2 is string\n",
    "    >>> train_cats(df)\n",
    "    >>> df\n",
    "       col1 col2\n",
    "    0     1    a\n",
    "    1     2    b\n",
    "    2     3    a\n",
    "    now the type of col2 is category\n",
    "    \"\"\"\n",
    "    for n,c in df.items():\n",
    "        if is_string_dtype(c): df[n] = c.astype('category').cat.as_ordered()"
   ]
  },
  {
   "cell_type": "code",
   "execution_count": 21,
   "metadata": {},
   "outputs": [],
   "source": [
    "def proc_df(df, y_fld=None, skip_flds=None, ignore_flds=None, do_scale=False, na_dict=None,\n",
    "            preproc_fn=None, max_n_cat=None, subset=None, mapper=None):\n",
    "    \"\"\" proc_df takes a data frame df and splits off the response variable, and\n",
    "    changes the df into an entirely numeric dataframe. For each column of df \n",
    "    which is not in skip_flds nor in ignore_flds, na values are replaced by the\n",
    "    median value of the column.\n",
    "    Parameters:\n",
    "    -----------\n",
    "    df: The data frame you wish to process.\n",
    "    y_fld: The name of the response variable\n",
    "    skip_flds: A list of fields that dropped from df.\n",
    "    ignore_flds: A list of fields that are ignored during processing.\n",
    "    do_scale: Standardizes each column in df. Takes Boolean Values(True,False)\n",
    "    na_dict: a dictionary of na columns to add. Na columns are also added if there\n",
    "        are any missing values.\n",
    "    preproc_fn: A function that gets applied to df.\n",
    "    max_n_cat: The maximum number of categories to break into dummy values, instead\n",
    "        of integer codes.\n",
    "    subset: Takes a random subset of size subset from df.\n",
    "    mapper: If do_scale is set as True, the mapper variable\n",
    "        calculates the values used for scaling of variables during training time (mean and standard deviation).\n",
    "    Returns:\n",
    "    --------\n",
    "    [x, y, nas, mapper(optional)]:\n",
    "        x: x is the transformed version of df. x will not have the response variable\n",
    "            and is entirely numeric.\n",
    "        y: y is the response variable\n",
    "        nas: returns a dictionary of which nas it created, and the associated median.\n",
    "        mapper: A DataFrameMapper which stores the mean and standard deviation of the corresponding continuous\n",
    "        variables which is then used for scaling of during test-time.\n",
    "    Examples:\n",
    "    ---------\n",
    "    >>> df = pd.DataFrame({'col1' : [1, 2, 3], 'col2' : ['a', 'b', 'a']})\n",
    "    >>> df\n",
    "       col1 col2\n",
    "    0     1    a\n",
    "    1     2    b\n",
    "    2     3    a\n",
    "    note the type of col2 is string\n",
    "    >>> train_cats(df)\n",
    "    >>> df\n",
    "       col1 col2\n",
    "    0     1    a\n",
    "    1     2    b\n",
    "    2     3    a\n",
    "    now the type of col2 is category { a : 1, b : 2}\n",
    "    >>> x, y, nas = proc_df(df, 'col1')\n",
    "    >>> x\n",
    "       col2\n",
    "    0     1\n",
    "    1     2\n",
    "    2     1\n",
    "    >>> data = DataFrame(pet=[\"cat\", \"dog\", \"dog\", \"fish\", \"cat\", \"dog\", \"cat\", \"fish\"],\n",
    "                 children=[4., 6, 3, 3, 2, 3, 5, 4],\n",
    "                 salary=[90, 24, 44, 27, 32, 59, 36, 27])\n",
    "    >>> mapper = DataFrameMapper([(:pet, LabelBinarizer()),\n",
    "                          ([:children], StandardScaler())])\n",
    "    >>>round(fit_transform!(mapper, copy(data)), 2)\n",
    "    8x4 Array{Float64,2}:\n",
    "    1.0  0.0  0.0   0.21\n",
    "    0.0  1.0  0.0   1.88\n",
    "    0.0  1.0  0.0  -0.63\n",
    "    0.0  0.0  1.0  -0.63\n",
    "    1.0  0.0  0.0  -1.46\n",
    "    0.0  1.0  0.0  -0.63\n",
    "    1.0  0.0  0.0   1.04\n",
    "    0.0  0.0  1.0   0.21\n",
    "    \"\"\"\n",
    "    if not ignore_flds: ignore_flds=[]\n",
    "    if not skip_flds: skip_flds=[]\n",
    "    if subset: df = get_sample(df,subset)\n",
    "    else: df = df.copy()\n",
    "    ignored_flds = df.loc[:, ignore_flds]\n",
    "    df.drop(ignore_flds, axis=1, inplace=True)\n",
    "    if preproc_fn: preproc_fn(df)\n",
    "    if y_fld is None: y = None\n",
    "    else:\n",
    "        if not is_numeric_dtype(df[y_fld]): df[y_fld] = df[y_fld].cat.codes\n",
    "        y = df[y_fld].values\n",
    "        skip_flds += [y_fld]\n",
    "    df.drop(skip_flds, axis=1, inplace=True)\n",
    "\n",
    "    if na_dict is None: na_dict = {}\n",
    "    else: na_dict = na_dict.copy()\n",
    "    na_dict_initial = na_dict.copy()\n",
    "    for n,c in df.items(): na_dict = fix_missing(df, c, n, na_dict)\n",
    "    if len(na_dict_initial.keys()) > 0:\n",
    "        df.drop([a + '_na' for a in list(set(na_dict.keys()) - set(na_dict_initial.keys()))], axis=1, inplace=True)\n",
    "    if do_scale: mapper = scale_vars(df, mapper)\n",
    "    for n,c in df.items(): numericalize(df, c, n, max_n_cat)\n",
    "    df = pd.get_dummies(df, dummy_na=True)\n",
    "    df = pd.concat([ignored_flds, df], axis=1)\n",
    "    res = [df, y, na_dict]\n",
    "    if do_scale: res = res + [mapper]\n",
    "    return res"
   ]
  },
  {
   "cell_type": "code",
   "execution_count": 22,
   "metadata": {},
   "outputs": [],
   "source": [
    "def fix_missing(df, col, name, na_dict):\n",
    "    \"\"\" Fill missing data in a column of df with the median, and add a {name}_na column\n",
    "    which specifies if the data was missing.\n",
    "    Parameters:\n",
    "    -----------\n",
    "    df: The data frame that will be changed.\n",
    "    col: The column of data to fix by filling in missing data.\n",
    "    name: The name of the new filled column in df.\n",
    "    na_dict: A dictionary of values to create na's of and the value to insert. If\n",
    "        name is not a key of na_dict the median will fill any missing data. Also\n",
    "        if name is not a key of na_dict and there is no missing data in col, then\n",
    "        no {name}_na column is not created.\n",
    "    Examples:\n",
    "    ---------\n",
    "    >>> df = pd.DataFrame({'col1' : [1, np.NaN, 3], 'col2' : [5, 2, 2]})\n",
    "    >>> df\n",
    "       col1 col2\n",
    "    0     1    5\n",
    "    1   nan    2\n",
    "    2     3    2\n",
    "    >>> fix_missing(df, df['col1'], 'col1', {})\n",
    "    >>> df\n",
    "       col1 col2 col1_na\n",
    "    0     1    5   False\n",
    "    1     2    2    True\n",
    "    2     3    2   False\n",
    "    >>> df = pd.DataFrame({'col1' : [1, np.NaN, 3], 'col2' : [5, 2, 2]})\n",
    "    >>> df\n",
    "       col1 col2\n",
    "    0     1    5\n",
    "    1   nan    2\n",
    "    2     3    2\n",
    "    >>> fix_missing(df, df['col2'], 'col2', {})\n",
    "    >>> df\n",
    "       col1 col2\n",
    "    0     1    5\n",
    "    1   nan    2\n",
    "    2     3    2\n",
    "    >>> df = pd.DataFrame({'col1' : [1, np.NaN, 3], 'col2' : [5, 2, 2]})\n",
    "    >>> df\n",
    "       col1 col2\n",
    "    0     1    5\n",
    "    1   nan    2\n",
    "    2     3    2\n",
    "    >>> fix_missing(df, df['col1'], 'col1', {'col1' : 500})\n",
    "    >>> df\n",
    "       col1 col2 col1_na\n",
    "    0     1    5   False\n",
    "    1   500    2    True\n",
    "    2     3    2   False\n",
    "    \"\"\"\n",
    "    if is_numeric_dtype(col):\n",
    "        if pd.isnull(col).sum() or (name in na_dict):\n",
    "            df[name+'_na'] = pd.isnull(col)\n",
    "            filler = na_dict[name] if name in na_dict else col.median()\n",
    "            df[name] = col.fillna(filler)\n",
    "            na_dict[name] = filler\n",
    "    return na_dict"
   ]
  },
  {
   "cell_type": "code",
   "execution_count": 23,
   "metadata": {},
   "outputs": [],
   "source": [
    "def numericalize(df, col, name, max_n_cat):\n",
    "    \"\"\" Changes the column col from a categorical type to it's integer codes.\n",
    "    Parameters:\n",
    "    -----------\n",
    "    df: A pandas dataframe. df[name] will be filled with the integer codes from\n",
    "        col.\n",
    "    col: The column you wish to change into the categories.\n",
    "    name: The column name you wish to insert into df. This column will hold the\n",
    "        integer codes.\n",
    "    max_n_cat: If col has more categories than max_n_cat it will not change the\n",
    "        it to its integer codes. If max_n_cat is None, then col will always be\n",
    "        converted.\n",
    "    Examples:\n",
    "    ---------\n",
    "    >>> df = pd.DataFrame({'col1' : [1, 2, 3], 'col2' : ['a', 'b', 'a']})\n",
    "    >>> df\n",
    "       col1 col2\n",
    "    0     1    a\n",
    "    1     2    b\n",
    "    2     3    a\n",
    "    note the type of col2 is string\n",
    "    >>> train_cats(df)\n",
    "    >>> df\n",
    "       col1 col2\n",
    "    0     1    a\n",
    "    1     2    b\n",
    "    2     3    a\n",
    "    now the type of col2 is category { a : 1, b : 2}\n",
    "    >>> numericalize(df, df['col2'], 'col3', None)\n",
    "       col1 col2 col3\n",
    "    0     1    a    1\n",
    "    1     2    b    2\n",
    "    2     3    a    1\n",
    "    \"\"\"\n",
    "    if not is_numeric_dtype(col) and ( max_n_cat is None or len(col.cat.categories)>max_n_cat):\n",
    "        df[name] = col.cat.codes+1"
   ]
  },
  {
   "cell_type": "code",
   "execution_count": 24,
   "metadata": {},
   "outputs": [
    {
     "name": "stderr",
     "output_type": "stream",
     "text": [
      "/home/lubuntu/anaconda3/envs/project/lib/python3.6/site-packages/ipykernel_launcher.py:26: SettingWithCopyWarning: \n",
      "A value is trying to be set on a copy of a slice from a DataFrame.\n",
      "Try using .loc[row_indexer,col_indexer] = value instead\n",
      "\n",
      "See the caveats in the documentation: http://pandas.pydata.org/pandas-docs/stable/indexing.html#indexing-view-versus-copy\n"
     ]
    }
   ],
   "source": [
    "train_cats(data)\n",
    "df, y, nas = proc_df(data, 'common')"
   ]
  },
  {
   "cell_type": "code",
   "execution_count": 25,
   "metadata": {},
   "outputs": [
    {
     "data": {
      "text/plain": [
       "((88147, 34), (88147,), (53000, 34))"
      ]
     },
     "execution_count": 25,
     "metadata": {},
     "output_type": "execute_result"
    }
   ],
   "source": [
    "def split_vals(a,n): return a[:n].copy(), a[n:].copy()\n",
    "\n",
    "n_valid = 53000\n",
    "n_trn = len(df)-n_valid\n",
    "raw_train, raw_valid = split_vals(data, n_trn)\n",
    "X_train, X_valid = split_vals(df, n_trn)\n",
    "y_train, y_valid = split_vals(y, n_trn)\n",
    "\n",
    "X_train.shape, y_train.shape, X_valid.shape"
   ]
  },
  {
   "cell_type": "code",
   "execution_count": 26,
   "metadata": {},
   "outputs": [],
   "source": [
    "def rmse(x,y): return math.sqrt(((x-y)**2).mean())\n",
    "\n",
    "def print_score(m):\n",
    "    res = [rmse(m.predict(X_train), y_train), rmse(m.predict(X_valid), y_valid),\n",
    "                m.score(X_train, y_train), m.score(X_valid, y_valid)]\n",
    "    if hasattr(m, 'oob_score_'): res.append(m.oob_score_)\n",
    "    print(res)"
   ]
  },
  {
   "cell_type": "code",
   "execution_count": 27,
   "metadata": {},
   "outputs": [
    {
     "name": "stderr",
     "output_type": "stream",
     "text": [
      "/home/lubuntu/anaconda3/envs/project/lib/python3.6/site-packages/sklearn/ensemble/forest.py:246: FutureWarning: The default value of n_estimators will change from 10 in version 0.20 to 100 in 0.22.\n",
      "  \"10 in version 0.20 to 100 in 0.22.\", FutureWarning)\n"
     ]
    },
    {
     "name": "stdout",
     "output_type": "stream",
     "text": [
      "CPU times: user 2.85 s, sys: 461 ms, total: 3.31 s\n",
      "Wall time: 2.16 s\n",
      "[34.75435434190206, 48.38504427438258, 0.7931410030970991, 0.3557924528301887]\n"
     ]
    }
   ],
   "source": [
    "m = RandomForestClassifier(n_jobs=-1)\n",
    "%time m.fit(X_train, y_train)\n",
    "print_score(m)"
   ]
  },
  {
   "cell_type": "code",
   "execution_count": 28,
   "metadata": {},
   "outputs": [
    {
     "data": {
      "image/png": "[encoded data removed]",
      "text/plain": [
       "<Figure size 288x540 with 1 Axes>"
      ]
     },
     "metadata": {
      "needs_background": "light"
     },
     "output_type": "display_data"
    }
   ],
   "source": [
    "imp = importances(m, X_valid, y_valid, n_samples=-1)\n",
    "viz = plot_importances(imp)\n",
    "viz.view()"
   ]
  },
  {
   "cell_type": "code",
   "execution_count": 40,
   "metadata": {},
   "outputs": [],
   "source": [
    "test = m.predict_proba(porg2)"
   ]
  },
  {
   "cell_type": "code",
   "execution_count": 39,
   "metadata": {},
   "outputs": [],
   "source": [
    "probs_test_x = X_valid.loc[108660]\n",
    "porg = array(probs_test_x)\n",
    "porg2=porg.reshape(1,-1)"
   ]
  },
  {
   "cell_type": "code",
   "execution_count": 56,
   "metadata": {},
   "outputs": [],
   "source": [
    "corr = merged.corr()\n"
   ]
  },
  {
   "cell_type": "code",
   "execution_count": 58,
   "metadata": {},
   "outputs": [
    {
     "data": {
      "text/plain": [
       "<matplotlib.axes._subplots.AxesSubplot at 0x7fdf2a2afe80>"
      ]
     },
     "execution_count": 58,
     "metadata": {},
     "output_type": "execute_result"
    },
    {
     "data": {
      "image/png": "[encoded data removed]",
      "text/plain": [
       "<Figure size 1008x864 with 2 Axes>"
      ]
     },
     "metadata": {
      "needs_background": "light"
     },
     "output_type": "display_data"
    }
   ],
   "source": [
    "import seaborn as sns\n",
    "f , ax = plt.subplots(figsize = (14,12))\n",
    "\n",
    "plt.title('Correlation Matrix',y=1,size=16)\n",
    "\n",
    "sns.heatmap(corr,square = False,  vmax=0.8)"
   ]
  },
  {
   "cell_type": "code",
   "execution_count": 17,
   "metadata": {},
   "outputs": [],
   "source": [
    "import pickle \n",
    "\n",
    "with open('model.pkl','wb') as pickle_file:\n",
    "    pickle.dump(m, pickle_file)"
   ]
  },
  {
   "cell_type": "code",
   "execution_count": 18,
   "metadata": {},
   "outputs": [
    {
     "data": {
      "text/plain": [
       "Index(['ID_CODE', 'kod', 'prim1_common', 'CNTRBTRS', 'COUNTY', 'AREA_X'], dtype='object')"
      ]
     },
     "execution_count": 18,
     "metadata": {},
     "output_type": "execute_result"
    }
   ],
   "source": [
    "X_train.columns"
   ]
  },
  {
   "cell_type": "code",
   "execution_count": 19,
   "metadata": {},
   "outputs": [
    {
     "data": {
      "text/plain": [
       "1       1\n",
       "2       1\n",
       "3       1\n",
       "4       1\n",
       "5       1\n",
       "9       1\n",
       "10      1\n",
       "11      1\n",
       "13      1\n",
       "14      1\n",
       "15      1\n",
       "16      1\n",
       "17      1\n",
       "18      1\n",
       "19      1\n",
       "20      1\n",
       "21      1\n",
       "23      1\n",
       "24      1\n",
       "25      1\n",
       "26      1\n",
       "27      1\n",
       "28      1\n",
       "29      1\n",
       "30      1\n",
       "31      1\n",
       "32      1\n",
       "39      1\n",
       "40      1\n",
       "45      1\n",
       "       ..\n",
       "5458    5\n",
       "5459    5\n",
       "5460    5\n",
       "5461    5\n",
       "5462    5\n",
       "5463    5\n",
       "5467    5\n",
       "5468    5\n",
       "5469    5\n",
       "5470    5\n",
       "5473    5\n",
       "5475    4\n",
       "5478    5\n",
       "5482    4\n",
       "5483    4\n",
       "5484    4\n",
       "5485    4\n",
       "5486    4\n",
       "5487    4\n",
       "5488    4\n",
       "5489    4\n",
       "5490    4\n",
       "5491    4\n",
       "5492    4\n",
       "5493    4\n",
       "5494    4\n",
       "5495    4\n",
       "5496    4\n",
       "5503    3\n",
       "5504    3\n",
       "Name: AREA_X, Length: 4267, dtype: int64"
      ]
     },
     "execution_count": 19,
     "metadata": {},
     "output_type": "execute_result"
    }
   ],
   "source": [
    "X_train.AREA_X"
   ]
  },
  {
   "cell_type": "code",
   "execution_count": 23,
   "metadata": {},
   "outputs": [
    {
     "name": "stdout",
     "output_type": "stream",
     "text": [
      "1     55\n",
      "2     55\n",
      "3     55\n",
      "4     55\n",
      "5     55\n",
      "9     55\n",
      "10    55\n",
      "11    55\n",
      "13    55\n",
      "14    40\n",
      "15    55\n",
      "16    55\n",
      "17    55\n",
      "18    55\n",
      "19    55\n",
      "20    55\n",
      "21    55\n",
      "23    55\n",
      "24    55\n",
      "25    55\n",
      "dtype: int16\n",
      "1       GULF KINGFISH\n",
      "2       GULF KINGFISH\n",
      "3       GULF KINGFISH\n",
      "4       GULF KINGFISH\n",
      "5       GULF KINGFISH\n",
      "9       GULF KINGFISH\n",
      "10      GULF KINGFISH\n",
      "11      GULF KINGFISH\n",
      "13      GULF KINGFISH\n",
      "14    FLORIDA POMPANO\n",
      "15      GULF KINGFISH\n",
      "16      GULF KINGFISH\n",
      "17      GULF KINGFISH\n",
      "18      GULF KINGFISH\n",
      "19      GULF KINGFISH\n",
      "20      GULF KINGFISH\n",
      "21      GULF KINGFISH\n",
      "23      GULF KINGFISH\n",
      "24      GULF KINGFISH\n",
      "25      GULF KINGFISH\n",
      "Name: common, dtype: category\n",
      "Categories (138, object): [ALMACO JACK < ATLANTIC CROAKER < ATLANTIC MENHADEN < ATLANTIC SHARPNOSE SHARK ... WHITEBONE PORGY < YELLOW CHUB < YELLOW JACK < YELLOWTAIL SNAPPER]\n"
     ]
    }
   ],
   "source": [
    "print(raw_train.common.cat.codes.head(20))\n",
    "print(raw_train.common.head(20))"
   ]
  },
  {
   "cell_type": "code",
   "execution_count": 27,
   "metadata": {},
   "outputs": [
    {
     "data": {
      "text/plain": [
       "138"
      ]
     },
     "execution_count": 27,
     "metadata": {},
     "output_type": "execute_result"
    }
   ],
   "source": [
    "data.common.cat.codes.unique()"
   ]
  },
  {
   "cell_type": "code",
   "execution_count": 26,
   "metadata": {},
   "outputs": [
    {
     "data": {
      "text/plain": [
       "[GULF KINGFISH, FLORIDA POMPANO, BLUEFISH, SHEEPSHEAD, HARDHEAD CATFISH, ..., ATLANTIC SHARPNOSE SHARK, DUSKY SHARK, BEARDED BROTULA, LARGEMOUTH BASS, REDEAR SUNFISH]\n",
       "Length: 138\n",
       "Categories (138, object): [ALMACO JACK < ATLANTIC CROAKER < ATLANTIC MENHADEN < ATLANTIC SHARPNOSE SHARK ... WHITEBONE PORGY < YELLOW CHUB < YELLOW JACK < YELLOWTAIL SNAPPER]"
      ]
     },
     "execution_count": 26,
     "metadata": {},
     "output_type": "execute_result"
    }
   ],
   "source": [
    "data.common.unique()"
   ]
  },
  {
   "cell_type": "code",
   "execution_count": 48,
   "metadata": {},
   "outputs": [],
   "source": [
    "mapping = pd.DataFrame()\n",
    "mapping['common_name']=data.common.unique()\n",
    "mapping['code']=data.common.cat.codes.unique()"
   ]
  },
  {
   "cell_type": "code",
   "execution_count": 49,
   "metadata": {},
   "outputs": [],
   "source": [
    "mapping.to_csv('name_map.csv', index=False)"
   ]
  },
  {
   "cell_type": "code",
   "execution_count": 50,
   "metadata": {},
   "outputs": [
    {
     "data": {
      "text/html": [
       "<div>\n",
       "<style scoped>\n",
       "    .dataframe tbody tr th:only-of-type {\n",
       "        vertical-align: middle;\n",
       "    }\n",
       "\n",
       "    .dataframe tbody tr th {\n",
       "        vertical-align: top;\n",
       "    }\n",
       "\n",
       "    .dataframe thead th {\n",
       "        text-align: right;\n",
       "    }\n",
       "</style>\n",
       "<table border=\"1\" class=\"dataframe\">\n",
       "  <thead>\n",
       "    <tr style=\"text-align: right;\">\n",
       "      <th></th>\n",
       "      <th>common_name</th>\n",
       "      <th>code</th>\n",
       "    </tr>\n",
       "  </thead>\n",
       "  <tbody>\n",
       "    <tr>\n",
       "      <th>0</th>\n",
       "      <td>GULF KINGFISH</td>\n",
       "      <td>55</td>\n",
       "    </tr>\n",
       "    <tr>\n",
       "      <th>1</th>\n",
       "      <td>FLORIDA POMPANO</td>\n",
       "      <td>40</td>\n",
       "    </tr>\n",
       "    <tr>\n",
       "      <th>2</th>\n",
       "      <td>BLUEFISH</td>\n",
       "      <td>23</td>\n",
       "    </tr>\n",
       "    <tr>\n",
       "      <th>3</th>\n",
       "      <td>SHEEPSHEAD</td>\n",
       "      <td>106</td>\n",
       "    </tr>\n",
       "    <tr>\n",
       "      <th>4</th>\n",
       "      <td>HARDHEAD CATFISH</td>\n",
       "      <td>56</td>\n",
       "    </tr>\n",
       "  </tbody>\n",
       "</table>\n",
       "</div>"
      ],
      "text/plain": [
       "        common_name  code\n",
       "0     GULF KINGFISH    55\n",
       "1   FLORIDA POMPANO    40\n",
       "2          BLUEFISH    23\n",
       "3        SHEEPSHEAD   106\n",
       "4  HARDHEAD CATFISH    56"
      ]
     },
     "execution_count": 50,
     "metadata": {},
     "output_type": "execute_result"
    }
   ],
   "source": [
    "mapping.head()"
   ]
  },
  {
   "cell_type": "code",
   "execution_count": 55,
   "metadata": {},
   "outputs": [],
   "source": [
    "mapping = pd.read_csv('name_map.csv',index_col='common_name')"
   ]
  },
  {
   "cell_type": "code",
   "execution_count": 56,
   "metadata": {},
   "outputs": [
    {
     "data": {
      "text/html": [
       "<div>\n",
       "<style scoped>\n",
       "    .dataframe tbody tr th:only-of-type {\n",
       "        vertical-align: middle;\n",
       "    }\n",
       "\n",
       "    .dataframe tbody tr th {\n",
       "        vertical-align: top;\n",
       "    }\n",
       "\n",
       "    .dataframe thead th {\n",
       "        text-align: right;\n",
       "    }\n",
       "</style>\n",
       "<table border=\"1\" class=\"dataframe\">\n",
       "  <thead>\n",
       "    <tr style=\"text-align: right;\">\n",
       "      <th></th>\n",
       "      <th>code</th>\n",
       "    </tr>\n",
       "    <tr>\n",
       "      <th>common_name</th>\n",
       "      <th></th>\n",
       "    </tr>\n",
       "  </thead>\n",
       "  <tbody>\n",
       "    <tr>\n",
       "      <th>GULF KINGFISH</th>\n",
       "      <td>55</td>\n",
       "    </tr>\n",
       "    <tr>\n",
       "      <th>FLORIDA POMPANO</th>\n",
       "      <td>40</td>\n",
       "    </tr>\n",
       "    <tr>\n",
       "      <th>BLUEFISH</th>\n",
       "      <td>23</td>\n",
       "    </tr>\n",
       "    <tr>\n",
       "      <th>SHEEPSHEAD</th>\n",
       "      <td>106</td>\n",
       "    </tr>\n",
       "    <tr>\n",
       "      <th>HARDHEAD CATFISH</th>\n",
       "      <td>56</td>\n",
       "    </tr>\n",
       "  </tbody>\n",
       "</table>\n",
       "</div>"
      ],
      "text/plain": [
       "                  code\n",
       "common_name           \n",
       "GULF KINGFISH       55\n",
       "FLORIDA POMPANO     40\n",
       "BLUEFISH            23\n",
       "SHEEPSHEAD         106\n",
       "HARDHEAD CATFISH    56"
      ]
     },
     "execution_count": 56,
     "metadata": {},
     "output_type": "execute_result"
    }
   ],
   "source": [
    "mapping.head()"
   ]
  },
  {
   "cell_type": "code",
   "execution_count": 61,
   "metadata": {},
   "outputs": [
    {
     "data": {
      "text/plain": [
       "Index(['code'], dtype='object')"
      ]
     },
     "execution_count": 61,
     "metadata": {},
     "output_type": "execute_result"
    }
   ],
   "source": [
    "mapping.columns"
   ]
  },
  {
   "cell_type": "code",
   "execution_count": 62,
   "metadata": {},
   "outputs": [
    {
     "data": {
      "text/plain": [
       "23"
      ]
     },
     "execution_count": 62,
     "metadata": {},
     "output_type": "execute_result"
    }
   ],
   "source": [
    "mapping.loc['BLUEFISH', 'code']"
   ]
  },
  {
   "cell_type": "code",
   "execution_count": 63,
   "metadata": {},
   "outputs": [
    {
     "data": {
      "text/plain": [
       "Index(['GULF KINGFISH', 'FLORIDA POMPANO', 'BLUEFISH', 'SHEEPSHEAD',\n",
       "       'HARDHEAD CATFISH', 'SPOT', 'PINFISH', 'BLACK DRUM', 'SPOTTED SEATROUT',\n",
       "       'SOUTHERN KINGFISH',\n",
       "       ...\n",
       "       'ALMACO JACK', 'SPINNER SHARK', 'BLACKNOSE SHARK', 'BULL SHARK',\n",
       "       'GLASSEYE SNAPPER', 'ATLANTIC SHARPNOSE SHARK', 'DUSKY SHARK',\n",
       "       'BEARDED BROTULA', 'LARGEMOUTH BASS', 'REDEAR SUNFISH'],\n",
       "      dtype='object', name='common_name', length=138)"
      ]
     },
     "execution_count": 63,
     "metadata": {},
     "output_type": "execute_result"
    }
   ],
   "source": [
    "mapping.index"
   ]
  },
  {
   "cell_type": "code",
   "execution_count": 71,
   "metadata": {},
   "outputs": [
    {
     "data": {
      "text/plain": [
       "Index(['BLUEFISH'], dtype='object', name='common_name')"
      ]
     },
     "execution_count": 71,
     "metadata": {},
     "output_type": "execute_result"
    }
   ],
   "source": [
    "mapping.loc[mapping['code'] == 23].index\n"
   ]
  },
  {
   "cell_type": "code",
   "execution_count": 73,
   "metadata": {},
   "outputs": [],
   "source": [
    "x=[204]"
   ]
  },
  {
   "cell_type": "code",
   "execution_count": 74,
   "metadata": {},
   "outputs": [
    {
     "data": {
      "text/plain": [
       "[204]"
      ]
     },
     "execution_count": 74,
     "metadata": {},
     "output_type": "execute_result"
    }
   ],
   "source": [
    "x"
   ]
  },
  {
   "cell_type": "code",
   "execution_count": 75,
   "metadata": {},
   "outputs": [
    {
     "data": {
      "text/plain": [
       "204"
      ]
     },
     "execution_count": 75,
     "metadata": {},
     "output_type": "execute_result"
    }
   ],
   "source": [
    "x[0]"
   ]
  },
  {
   "cell_type": "code",
   "execution_count": null,
   "metadata": {},
   "outputs": [],
   "source": []
  }
 ],
 "metadata": {
  "kernelspec": {
   "display_name": "Python 3",
   "language": "python",
   "name": "python3"
  },
  "language_info": {
   "codemirror_mode": {
    "name": "ipython",
    "version": 3
   },
   "file_extension": ".py",
   "mimetype": "text/x-python",
   "name": "python",
   "nbconvert_exporter": "python",
   "pygments_lexer": "ipython3",
   "version": "3.6.3"
  }
 },
 "nbformat": 4,
 "nbformat_minor": 2
}
