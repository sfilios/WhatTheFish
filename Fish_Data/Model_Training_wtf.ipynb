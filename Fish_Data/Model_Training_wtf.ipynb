{
 "cells": [
  {
   "cell_type": "code",
   "execution_count": 39,
   "metadata": {},
   "outputs": [],
   "source": [
    "import glob2 as glob\n",
    "\n",
    "import pandas as pd\n",
    "import numpy as np\n",
    "\n",
    "from rfpimp import *\n",
    "\n",
    "from sklearn import metrics\n",
    "from sklearn.ensemble import RandomForestClassifier\n",
    "\n",
    "from matplotlib import pyplot as plt\n",
    "\n",
    "# import pickle"
   ]
  },
  {
   "cell_type": "markdown",
   "metadata": {},
   "source": [
    "### First, import the data on which to train our model. To accommodate size constraints, we will train on only 2017 data for now."
   ]
  },
  {
   "cell_type": "code",
   "execution_count": 40,
   "metadata": {},
   "outputs": [
    {
     "name": "stderr",
     "output_type": "stream",
     "text": [
      "/home/lubuntu/anaconda3/envs/project/lib/python3.6/site-packages/IPython/core/interactiveshell.py:3185: DtypeWarning: Columns (26,39,65,73) have mixed types. Specify dtype option on import or set low_memory=False.\n",
      "  if (yield from self.run_code(code, result)):\n",
      "/home/lubuntu/anaconda3/envs/project/lib/python3.6/site-packages/IPython/core/interactiveshell.py:3185: DtypeWarning: Columns (65) have mixed types. Specify dtype option on import or set low_memory=False.\n",
      "  if (yield from self.run_code(code, result)):\n"
     ]
    }
   ],
   "source": [
    "\n",
    "# size_2015 = pd.concat([pd.read_csv(f) for f in glob.glob('Past3years/size_2015*.csv')], ignore_index=True)\n",
    "# trip_2015 = pd.concat([pd.read_csv(f) for f in glob.glob('Past3years/trip_2015*.csv')], ignore_index = True)\n",
    "\n",
    "# size_2016 = pd.concat([pd.read_csv(f) for f in glob.glob('Past3years/size_2016*.csv')], ignore_index=True)\n",
    "# trip_2016 = pd.concat([pd.read_csv(f) for f in glob.glob('Past3years/trip_2016*.csv')], ignore_index = True)\n",
    "\n",
    "size_2017 = pd.concat([pd.read_csv(f) for f in glob.glob('Past3years/size_2017*.csv')], ignore_index=True)\n",
    "trip_2017 = pd.concat([pd.read_csv(f) for f in glob.glob('Past3years/trip_2017*.csv')], ignore_index = True)"
   ]
  },
  {
   "cell_type": "markdown",
   "metadata": {},
   "source": [
    "Each catch and trip has an ID code. Unfortunately, many of the ID codes are messed up and aren't actually all numbers...they end in 'XX' instead. Since we can't use these, we will make these into NaN."
   ]
  },
  {
   "cell_type": "code",
   "execution_count": 41,
   "metadata": {},
   "outputs": [],
   "source": [
    "ids=[]\n",
    "for idno in trip_2017.ID_CODE:\n",
    "    try: ids.append(int(idno))\n",
    "    except: ids.append(np.nan)\n",
    "        \n",
    "trip_2017['new_id']=ids\n"
   ]
  },
  {
   "cell_type": "markdown",
   "metadata": {},
   "source": [
    "## Choose the columns that aren't obviously cheating:\n",
    "\n",
    "Several of the variables in our data, such as 'length of fish', wouldn't be something that you know before catching a fish. Thus, if we train a model on that it would perform better than in real life. This is cheating, also known as 'leaky' data.\n",
    "\n",
    "Previous EDA also showed a high correlation between several variables, so we will select columns of non-correlated variables."
   ]
  },
  {
   "cell_type": "code",
   "execution_count": 42,
   "metadata": {},
   "outputs": [],
   "source": [
    "size_cols = ['AREA_X', 'ID_CODE', 'MODE_FX', 'SUB_REG', 'common'].copy()\n",
    "trip_cols = ['AREA', 'BOAT_HRS', 'CNTRBTRS',\n",
    "            'FFDAYS12', 'new_id','month'].copy()"
   ]
  },
  {
   "cell_type": "code",
   "execution_count": 43,
   "metadata": {},
   "outputs": [],
   "source": [
    "size2017 = size_2017[size_cols].copy()\n",
    "trip2017 = trip_2017[trip_cols].copy()\n"
   ]
  },
  {
   "cell_type": "markdown",
   "metadata": {},
   "source": [
    "Now we can merge the two dataframes on common ID code."
   ]
  },
  {
   "cell_type": "code",
   "execution_count": 44,
   "metadata": {},
   "outputs": [],
   "source": [
    "merged = pd.merge(size2017,trip2017,how='inner', left_on=['ID_CODE'], right_on=['new_id'])"
   ]
  },
  {
   "cell_type": "code",
   "execution_count": 45,
   "metadata": {},
   "outputs": [
    {
     "name": "stdout",
     "output_type": "stream",
     "text": [
      "35662\n",
      "176809\n"
     ]
    }
   ],
   "source": [
    "print(sum(merged.common.isnull()))\n",
    "print(len(merged.common))"
   ]
  },
  {
   "cell_type": "markdown",
   "metadata": {},
   "source": [
    "The column 'common' is the common name of the fish, and this is what we are predicting. We have to drop the fish that you don't have any name for, since we can't use these for training."
   ]
  },
  {
   "cell_type": "code",
   "execution_count": 46,
   "metadata": {},
   "outputs": [],
   "source": [
    "mask = merged.common.isnull()\n",
    "data = merged[mask==False]"
   ]
  },
  {
   "cell_type": "markdown",
   "metadata": {},
   "source": [
    "Now we need to drop the ID_CODE column since it is also going to be 'leaky' data."
   ]
  },
  {
   "cell_type": "code",
   "execution_count": 47,
   "metadata": {},
   "outputs": [
    {
     "name": "stderr",
     "output_type": "stream",
     "text": [
      "/home/lubuntu/anaconda3/envs/project/lib/python3.6/site-packages/pandas/core/frame.py:3697: SettingWithCopyWarning: \n",
      "A value is trying to be set on a copy of a slice from a DataFrame\n",
      "\n",
      "See the caveats in the documentation: http://pandas.pydata.org/pandas-docs/stable/indexing.html#indexing-view-versus-copy\n",
      "  errors=errors)\n"
     ]
    }
   ],
   "source": [
    "data.drop(columns=['new_id', 'ID_CODE'], inplace=True)"
   ]
  },
  {
   "cell_type": "code",
   "execution_count": 48,
   "metadata": {},
   "outputs": [
    {
     "data": {
      "text/html": [
       "<div>\n",
       "<style scoped>\n",
       "    .dataframe tbody tr th:only-of-type {\n",
       "        vertical-align: middle;\n",
       "    }\n",
       "\n",
       "    .dataframe tbody tr th {\n",
       "        vertical-align: top;\n",
       "    }\n",
       "\n",
       "    .dataframe thead th {\n",
       "        text-align: right;\n",
       "    }\n",
       "</style>\n",
       "<table border=\"1\" class=\"dataframe\">\n",
       "  <thead>\n",
       "    <tr style=\"text-align: right;\">\n",
       "      <th></th>\n",
       "      <th>AREA_X</th>\n",
       "      <th>MODE_FX</th>\n",
       "      <th>SUB_REG</th>\n",
       "      <th>common</th>\n",
       "      <th>AREA</th>\n",
       "      <th>BOAT_HRS</th>\n",
       "      <th>CNTRBTRS</th>\n",
       "      <th>FFDAYS12</th>\n",
       "      <th>month</th>\n",
       "    </tr>\n",
       "  </thead>\n",
       "  <tbody>\n",
       "    <tr>\n",
       "      <th>9</th>\n",
       "      <td>5</td>\n",
       "      <td>3</td>\n",
       "      <td>4</td>\n",
       "      <td>ATLANTIC SILVERSIDE</td>\n",
       "      <td>C</td>\n",
       "      <td>NaN</td>\n",
       "      <td>1.0</td>\n",
       "      <td>100.0</td>\n",
       "      <td>9</td>\n",
       "    </tr>\n",
       "    <tr>\n",
       "      <th>13</th>\n",
       "      <td>5</td>\n",
       "      <td>3</td>\n",
       "      <td>4</td>\n",
       "      <td>ATLANTIC MENHADEN</td>\n",
       "      <td>C</td>\n",
       "      <td>NaN</td>\n",
       "      <td>1.0</td>\n",
       "      <td>20.0</td>\n",
       "      <td>9</td>\n",
       "    </tr>\n",
       "    <tr>\n",
       "      <th>14</th>\n",
       "      <td>5</td>\n",
       "      <td>3</td>\n",
       "      <td>4</td>\n",
       "      <td>ATLANTIC MENHADEN</td>\n",
       "      <td>C</td>\n",
       "      <td>NaN</td>\n",
       "      <td>1.0</td>\n",
       "      <td>20.0</td>\n",
       "      <td>9</td>\n",
       "    </tr>\n",
       "    <tr>\n",
       "      <th>15</th>\n",
       "      <td>5</td>\n",
       "      <td>3</td>\n",
       "      <td>4</td>\n",
       "      <td>ATLANTIC MENHADEN</td>\n",
       "      <td>C</td>\n",
       "      <td>NaN</td>\n",
       "      <td>1.0</td>\n",
       "      <td>20.0</td>\n",
       "      <td>9</td>\n",
       "    </tr>\n",
       "    <tr>\n",
       "      <th>16</th>\n",
       "      <td>5</td>\n",
       "      <td>3</td>\n",
       "      <td>4</td>\n",
       "      <td>ATLANTIC MENHADEN</td>\n",
       "      <td>C</td>\n",
       "      <td>NaN</td>\n",
       "      <td>1.0</td>\n",
       "      <td>20.0</td>\n",
       "      <td>9</td>\n",
       "    </tr>\n",
       "  </tbody>\n",
       "</table>\n",
       "</div>"
      ],
      "text/plain": [
       "    AREA_X  MODE_FX  SUB_REG               common AREA  BOAT_HRS  CNTRBTRS  \\\n",
       "9        5        3        4  ATLANTIC SILVERSIDE    C       NaN       1.0   \n",
       "13       5        3        4    ATLANTIC MENHADEN    C       NaN       1.0   \n",
       "14       5        3        4    ATLANTIC MENHADEN    C       NaN       1.0   \n",
       "15       5        3        4    ATLANTIC MENHADEN    C       NaN       1.0   \n",
       "16       5        3        4    ATLANTIC MENHADEN    C       NaN       1.0   \n",
       "\n",
       "    FFDAYS12  month  \n",
       "9      100.0      9  \n",
       "13      20.0      9  \n",
       "14      20.0      9  \n",
       "15      20.0      9  \n",
       "16      20.0      9  "
      ]
     },
     "execution_count": 48,
     "metadata": {},
     "output_type": "execute_result"
    }
   ],
   "source": [
    "data.head()"
   ]
  },
  {
   "cell_type": "markdown",
   "metadata": {},
   "source": [
    "### Now that the dataframes are merged, we can perform some exploratory data analysis (EDA)"
   ]
  },
  {
   "cell_type": "markdown",
   "metadata": {},
   "source": [
    "Look at the unique values for each of our columns"
   ]
  },
  {
   "cell_type": "code",
   "execution_count": 49,
   "metadata": {},
   "outputs": [
    {
     "name": "stdout",
     "output_type": "stream",
     "text": [
      "AREA_X\n",
      "[5 1 2 3 4]\n",
      "MODE_FX\n",
      "[3 4 5 7]\n",
      "SUB_REG\n",
      "[4 5 6 7]\n",
      "common\n",
      "['ATLANTIC SILVERSIDE' 'ATLANTIC MENHADEN' 'SCUP' 'TAUTOG' 'BLUEFISH'\n",
      " 'BLACK SEA BASS' 'CUNNER' 'STRIPED BASS' 'DOGFISH SHARK'\n",
      " 'SUMMER FLOUNDER' 'STRIPED SEAROBIN' 'CHUB MACKEREL' 'ATLANTIC BONITO'\n",
      " 'SHORTFIN MAKO' 'LITTLE TUNNY' 'SEAROBIN GENUS' 'ATLANTIC COD'\n",
      " 'ACADIAN REDFISH' 'CUSK' 'POLLOCK' 'HADDOCK' 'RED HAKE'\n",
      " 'ATLANTIC MACKEREL' 'WHITE HAKE' 'GOOSEFISH' 'WINTER SKATE'\n",
      " 'AMERICAN SHAD' 'BLUEFIN TUNA' 'SILVER HAKE' 'ATLANTIC HERRING'\n",
      " 'SPINY DOGFISH' 'NORTHERN KINGFISH' 'MENHADEN GENUS' 'KING MACKEREL'\n",
      " 'UNIDENTIFIED (SHARKS)' 'GRAY TRIGGERFISH' 'HERRING GENUS' 'HICKORY SHAD'\n",
      " 'NORTHERN SEAROBIN' 'STRIPED KILLIFISH' 'MUMMICHOG' 'CHANNEL CATFISH'\n",
      " 'STRIPED MULLET' 'WHITE PERCH' 'ATLANTIC CROAKER' 'BLACK DRUM'\n",
      " 'NORTHERN PUFFER' 'WEAKFISH' 'SOUTHERN KINGFISH' 'SHEEPSHEAD'\n",
      " 'BLUE CATFISH' 'SPOT' 'SPOTTED SEATROUT' 'SILVER PERCH' 'PIGFISH'\n",
      " 'SOUTHERN STINGRAY' 'PINFISH' 'BULLNOSE RAY' 'SPANISH MACKEREL'\n",
      " 'WHITE CATFISH' 'SMALLMOUTH BASS' 'RED DRUM' 'DOLPHIN' 'WHITE MARLIN'\n",
      " 'OYSTER TOADFISH' 'UNIDENTIFIED CATFISHES' 'KINGFISH GENUS'\n",
      " 'KILLIFISH FAMILY' 'MULLET GENUS' 'WINTER FLOUNDER' 'SWORDFISH'\n",
      " 'AMERICAN EEL' 'SMOOTH DOGFISH' 'UNIDENTIFIED SKATE OR RAY'\n",
      " 'STRIPED BURRFISH' 'UNIDENTIFIED FISH' 'YELLOWTAIL FLOUNDER'\n",
      " 'LESSER AMBERJACK' 'THRESHER SHARK' 'CONGER EEL' 'GULF KINGFISH'\n",
      " 'FLORIDA POMPANO' 'INSHORE LIZARDFISH' 'LONGSPINE PORGY' 'COBIA'\n",
      " 'COWNOSE RAY' 'YELLOWFIN TUNA' 'SKIPJACK TUNA' 'BLUELINE TILEFISH'\n",
      " 'SAND SEATROUT' 'COMMON SNOOK' 'BLACK MARGATE' 'CREVALLE JACK'\n",
      " 'SPOTTAIL PINFISH' 'BLUE RUNNER' 'HOUNDFISH' 'IRISH POMPANO'\n",
      " 'FRENCH GRUNT' 'BANDED RUDDERFISH' 'STRIPED MOJARRA'\n",
      " 'GAFFTOPSAIL CATFISH' 'MOJARRA FAMILY' 'ATLANTIC SPADEFISH'\n",
      " 'GRAY SNAPPER' 'LADYFISH' 'SOUTHERN FLOUNDER' 'JOLTHEAD PORGY'\n",
      " 'VERMILION SNAPPER' 'GREAT BARRACUDA' 'YELLOWTAIL SNAPPER' 'DOG SNAPPER'\n",
      " 'MUTTON SNAPPER' 'DOCTORFISH' 'BIGEYE' 'BLACKFIN TUNA' 'WHITE GRUNT'\n",
      " 'LEFTEYE FLOUNDER GENUS' 'RED SNAPPER' 'LANE SNAPPER' 'BLACK GROUPER'\n",
      " 'WHITE MULLET' 'RED GROUPER' 'GAG' 'PORKFISH' 'ATLANTIC THREAD HERRING'\n",
      " 'TRIPLETAIL' 'BIGEYE TUNA' 'BERMUDA CHUB' 'UNICORN FILEFISH'\n",
      " 'SAILORS CHOICE' 'SCHOOLMASTER' 'CERO' 'BLACKBELLY ROSEFISH'\n",
      " 'MULLET FAMILY' 'HERRING FAMILY' 'BALLYHOO' 'BLUESTRIPED GRUNT' 'HOGFISH'\n",
      " 'YELLOW JACK' 'ATLANTIC BUMPER' 'TOMTATE' 'SAND PERCH' 'WHITEBONE PORGY'\n",
      " 'FINETOOTH SHARK' 'PUFFER FAMILY' 'WAHOO' 'SPINNER SHARK'\n",
      " 'GREATER AMBERJACK' 'RED PORGY' 'SAND TILEFISH' 'BULLET MACKEREL'\n",
      " 'AMBERJACK GENUS' 'FLAT NEEDLEFISH' 'SILKY SHARK' 'SHARKSUCKER'\n",
      " 'SPOTFIN HOGFISH' 'BLUEGILL' 'LIZARDFISH GENUS' 'GULF FLOUNDER' 'SCAMP'\n",
      " 'BONNETHEAD' 'HARDHEAD CATFISH' 'LARGEMOUTH BASS' 'GULF MENHADEN'\n",
      " 'SILVER SEATROUT' 'THREADFIN SHAD' 'LIONFISH' 'SCALED SARDINE'\n",
      " 'BLACKTIP SHARK' 'ATLANTIC SHARPNOSE SHARK' 'BALAO' 'HEMIRAMPHUS GENUS'\n",
      " 'LEFTEYE FLOUNDER FAMILY' 'ROUND SCAD' 'LITTLEHEAD PORGY' 'ALMACO JACK'\n",
      " 'SQUIRRELFISH' 'KNOBBED PORGY' 'DUSKY FLOUNDER' 'SHORT BIGEYE'\n",
      " 'SEA BASS GENUS' 'PERMIT' 'BULL SHARK' 'GRUNT FAMILY' 'SNAPPER FAMILY'\n",
      " 'MACKEREL GENUS' 'JACK FAMILY' 'PORGY FAMILY' 'LEATHERJACKET FAMILY'\n",
      " 'ROCK HIND' 'BLACKNOSE SHARK' 'SOUTHERN PUFFER' 'REMORA' 'BANK SEA BASS'\n",
      " 'SKATE GENUS' 'LITTLE SKATE' 'PORBEAGLE' 'HAKE GENUS' 'LONGHORN SCULPIN'\n",
      " 'BLUE SHARK' 'CLEARNOSE SKATE' 'UNIDENTIFIED EEL' 'YELLOW PERCH'\n",
      " 'TILEFISH' 'NEEDLEFISH GENUS' 'BROWN BULLHEAD' 'PUMPKINSEED'\n",
      " 'SPOTTED HAKE' 'NORTHERN STARGAZER' 'BUTTERFISH FAMILY'\n",
      " 'ATLANTIC STINGRAY' 'SANDBAR SHARK' 'STINGRAY GENUS' 'LOOKDOWN'\n",
      " 'CUBERA SNAPPER' 'BAR JACK' 'YELLOWEDGE GROUPER' 'LONGSPINE SQUIRRELFISH'\n",
      " 'GRAYSBY' 'BAY ANCHOVY' 'QUEEN TRIGGERFISH' 'OCEAN TRIGGERFISH'\n",
      " 'JACK GENUS' 'ATLANTIC MOONFISH' 'SNOWY GROUPER' 'RAINBOW RUNNER'\n",
      " 'SAILFISH' 'PILOTFISH' 'BARRELFISH' 'BLUE MARLIN' 'STINGRAY FAMILY'\n",
      " 'ATLANTIC CUTLASSFISH' 'BARRACUDA GENUS' 'MOTTLED MOJARRA'\n",
      " 'REDFIN NEEDLEFISH' 'DRUM FAMILY' 'PARROTFISH FAMILY'\n",
      " 'REQUIEM SHARK GENUS' 'POMPANO DOLPHIN' 'SPANISH SARDINE' 'SILK SNAPPER'\n",
      " 'TUNA GENUS' 'NURSE SHARK' 'GRASS PORGY' 'REMORA FAMILY' 'LIONFISH GENUS'\n",
      " 'REQUIEM SHARK FAMILY' 'SCRAWLED FILEFISH' 'SAND DRUM'\n",
      " 'YELLOWFIN MOJARRA' 'SEATROUT GENUS' 'MARGATE' 'AFRICAN POMPANO'\n",
      " 'ROCK SEA BASS' 'ANCHOVY FAMILY' 'LEOPARD SEAROBIN' 'RED HIND'\n",
      " 'SAUCEREYE PORGY' 'COTTONWICK' 'RAINBOW PARROTFISH' 'MACKEREL FAMILY'\n",
      " 'ALEWIFE' 'BLUEBACK HERRING' 'RAINBOW SMELT' 'SCULPIN FAMILY'\n",
      " 'SHORTHORN SCULPIN' 'FOURSPOT FLOUNDER' 'NORTHERN SNAKEHEAD'\n",
      " 'GIZZARD SHAD' 'COMMON CARP' 'WINDOWPANE' 'OCEAN POUT' 'CHECKERED PUFFER'\n",
      " 'GRUNT GENUS' 'CONEY' 'LEMON SHARK' 'SEA BREAM' 'BUTTERFISH'\n",
      " 'BLUNTNOSE STINGRAY' 'BLACK CRAPPIE' 'BULLHEAD CATFISH GENUS'\n",
      " 'THREADFIN GENUS' 'WHITEFIN SHARKSUCKER' 'LIZARDFISH FAMILY' 'CUBBYU'\n",
      " 'CREOLE-FISH' 'HORSE-EYE JACK' 'SMOOTH PUFFER' 'SEA BASS FAMILY'\n",
      " 'CAESAR GRUNT' 'SEAROBIN FAMILY' 'REMORA GENUS' 'ORANGE FILEFISH'\n",
      " 'SNAPPER GENUS' 'GROUPER GENUS (MYCTEROPERCA)'\n",
      " 'UNIDENTIFIED SHARK OR RAY' 'WARSAW GROUPER' 'SEA RAVEN'\n",
      " 'SILVERSIDE GENUS' 'SHEEPSHEAD MINNOW' 'SPECKLED HIND' 'ROUGH SCAD'\n",
      " 'BIGEYE FAMILY' 'FANTAIL MULLET' 'SHEEPSHEAD PORGY' 'LONGNOSE GAR'\n",
      " 'SLENDER MOJARRA' 'SILVER JENNY' 'MISTY GROUPER' 'ATLANTIC THREADFIN'\n",
      " 'BULLHEAD CATFISH FAMILY' 'NEEDLEFISH FAMILY' 'YELLOWMOUTH GROUPER'\n",
      " 'BLACKFIN SNAPPER' 'SQUIRRELFISH FAMILY']\n",
      "AREA\n",
      "['C' '1' '2' '4' '3' '5' 'V' 'B' 'A' 'E' 'F' 'D' 'H' 'G' 'L' 'K' 'J']\n",
      "BOAT_HRS\n",
      "[ nan  8.5  8.   6.   4.5  6.5  7.   7.5  5.   5.5  4.   9.5  9.  12.\n",
      "  3.   3.5 10.  24.   2.5 10.5  2.  11.5 11.  13.   1.   1.5 14.5 21.5\n",
      " 16.5 12.5 14.  15.  20.  36.  99.8 16.  15.5 18.  13.5 17.  22.   4.9\n",
      " 21.  99.9]\n",
      "CNTRBTRS\n",
      "[ 1.  2.  3.  0.  9.  4.  5. 15.  8.  7.  6. 11. 13. 10. 12. 17. 19. 20.]\n",
      "FFDAYS12\n",
      "[100.  20.  99.  50.   2.   3.  15.  10. 199. 200.   1.   0.   5.  30.\n",
      "   4.   6.  35.  60.  12.  28.  19.  24.   8. 124.  25. 175.  80.   7.\n",
      "  18. 130.  49.  40. 150. 300.  90.  29.  59.  79.  46.  13.  70. 998.\n",
      "  75.  55.  45. 125. 999. 110.  32.  23.   9.  14.  38.  16.  47.  52.\n",
      " 120.  48.  31.  64.  26. 320.  11.  21.  36. 180. 105. 160.  22.  85.\n",
      "  27.  17.  63.  37. 250. 260.  72.  96. 325. 144.  86. 290.  65. 134.\n",
      "  53.  58.  82.  56.  84. 364. 170. 220. 156. 360. 270. 224. 103.  42.\n",
      " 350. 240. 104. 192. 297. 115.  51. 155. 259.  39. 249. 208. 207.  57.\n",
      "  34. 229. 345. 129. 263. 230.  93. 262. 280.  95. 140.  66.  68. 201.\n",
      " 185.  88.  44.  43.  62.  33. 152. 233.  71. 225.  76. 106. 108. 149.\n",
      "  54.  77. 114. 288. 330.  69. 109. 158. 128. 112. 168. 354. 138. 182.\n",
      " 131. 165. 275. 265. 210. 299. 195.  74. 113. 107. 340. 335. 121.  78.\n",
      "  61. 264.  98. 312. 143. 215.  67. 274. 336.]\n",
      "month\n",
      "[ 9 10  7  8  2  1  6  5  4  3 11 12]\n"
     ]
    }
   ],
   "source": [
    "for x in data:\n",
    "    print(x)\n",
    "    print(data[x].unique())"
   ]
  },
  {
   "cell_type": "markdown",
   "metadata": {},
   "source": [
    "How many of the top 5 fish are caught each month?"
   ]
  },
  {
   "cell_type": "code",
   "execution_count": 50,
   "metadata": {},
   "outputs": [
    {
     "data": {
      "image/png": "[encoded data removed]",
      "text/plain": [
       "<Figure size 432x288 with 1 Axes>"
      ]
     },
     "metadata": {
      "needs_background": "light"
     },
     "output_type": "display_data"
    }
   ],
   "source": [
    "counts = data['common'].value_counts()\n",
    "counts.sort_values(inplace=True)\n",
    "fish = counts[-5:]\n",
    "\n",
    "test = data.groupby(by='common')['month'].value_counts()\n",
    "\n",
    "#fish = test['SCUP']\n",
    "#fish2 = test['RED HAKE']\n",
    "\n",
    "#fish.sort_index().plot()\n",
    "# fish2.sort_index().plot()\n",
    "\n",
    "for species in fish.index:\n",
    "    test[species].sort_index().plot(legend=True, label=species)\n"
   ]
  },
  {
   "cell_type": "markdown",
   "metadata": {},
   "source": [
    "If we look at each sub-region where fish are caught, which one is the most fruitful?"
   ]
  },
  {
   "cell_type": "code",
   "execution_count": 51,
   "metadata": {},
   "outputs": [
    {
     "data": {
      "text/plain": [
       "<matplotlib.axes._subplots.AxesSubplot at 0x7f3bd0492cc0>"
      ]
     },
     "execution_count": 51,
     "metadata": {},
     "output_type": "execute_result"
    },
    {
     "data": {
      "image/png": "[encoded data removed]",
      "text/plain": [
       "<Figure size 432x288 with 1 Axes>"
      ]
     },
     "metadata": {
      "needs_background": "light"
     },
     "output_type": "display_data"
    }
   ],
   "source": [
    "by_area = data['SUB_REG'].value_counts()\n",
    "by_area.sort_values(inplace=True)\n",
    "by_area[-10:].plot(kind='bar')"
   ]
  },
  {
   "cell_type": "markdown",
   "metadata": {},
   "source": [
    "Can we see what the most common fish is for each sub-region? Running the code below for each sub region let's us see the answer."
   ]
  },
  {
   "cell_type": "code",
   "execution_count": 52,
   "metadata": {},
   "outputs": [
    {
     "data": {
      "text/plain": [
       "<matplotlib.axes._subplots.AxesSubplot at 0x7f3bced73438>"
      ]
     },
     "execution_count": 52,
     "metadata": {},
     "output_type": "execute_result"
    },
    {
     "data": {
      "image/png": "[encoded data removed]",
      "text/plain": [
       "<Figure size 432x288 with 1 Axes>"
      ]
     },
     "metadata": {
      "needs_background": "light"
     },
     "output_type": "display_data"
    }
   ],
   "source": [
    "#get the most common fish for each sub-region\n",
    "# merged.tail()\n",
    "\n",
    "mask = data['SUB_REG']==4\n",
    "region_1 = data[mask].copy()\n",
    "# region_1\n",
    "counts = region_1['common'].value_counts()\n",
    "counts.sort_values(inplace=True)\n",
    "\n",
    "#counts[-1]\n",
    "counts[-10:].plot(kind='bar')"
   ]
  },
  {
   "cell_type": "code",
   "execution_count": 53,
   "metadata": {},
   "outputs": [
    {
     "name": "stdout",
     "output_type": "stream",
     "text": [
      "15.499443842235399\n"
     ]
    }
   ],
   "source": [
    "# Take the count of the most common fish in each region. If you always guess that, you'll get it right\n",
    "# the same number of times that it appears. Add those up, and divide out of the total fish, and there's your baseline\n",
    "# Region 4: 10019\n",
    "# Region 5: 5137\n",
    "# Region 6: 2718\n",
    "# Region 7: 4003\n",
    "accuracy = (10019+5137+2718+4003)/len(data)*100\n",
    "print(accuracy)"
   ]
  },
  {
   "cell_type": "markdown",
   "metadata": {},
   "source": [
    "### So, the total accuracy if you just guess the most common fish in each region, is 12.4% - 15.5% (depending on if you drop the NAs first or not)"
   ]
  },
  {
   "cell_type": "code",
   "execution_count": 54,
   "metadata": {},
   "outputs": [
    {
     "data": {
      "text/plain": [
       "<matplotlib.axes._subplots.AxesSubplot at 0x7f3bd08210b8>"
      ]
     },
     "execution_count": 54,
     "metadata": {},
     "output_type": "execute_result"
    },
    {
     "data": {
      "image/png": "[encoded data removed]",
      "text/plain": [
       "<Figure size 432x288 with 1 Axes>"
      ]
     },
     "metadata": {
      "needs_background": "light"
     },
     "output_type": "display_data"
    }
   ],
   "source": [
    "#Previously we looked by region, let's look overall at the to 50 fish\n",
    "counts = data['common'].value_counts()\n",
    "counts.sort_values(inplace=True)\n",
    "\n",
    "counts[-50:].plot(kind='bar')"
   ]
  },
  {
   "cell_type": "markdown",
   "metadata": {},
   "source": [
    "### Instead of predicting for every fish (which can get unruly), let's predict only fish that are caught more than 500 times a year.\n",
    "We can also still include the less-caught species, but all rolled-up into one category as 'other'."
   ]
  },
  {
   "cell_type": "code",
   "execution_count": 55,
   "metadata": {},
   "outputs": [
    {
     "name": "stdout",
     "output_type": "stream",
     "text": [
      "46\n",
      "0.3542406143949216\n",
      "0.3542406143949216\n"
     ]
    }
   ],
   "source": [
    "print(sum(counts>500))\n",
    "print(500/data.shape[0]*100)\n",
    "print(500/counts.sum()*100)"
   ]
  },
  {
   "cell_type": "markdown",
   "metadata": {},
   "source": [
    "As seen above, there are only 46 species that had more than 500 catches. If a species was caught less than 500 times, it represents ~ 3.5% of the catches."
   ]
  },
  {
   "cell_type": "code",
   "execution_count": 56,
   "metadata": {},
   "outputs": [
    {
     "data": {
      "text/plain": [
       "[2.422297321232474,\n",
       " 2.731903618213636,\n",
       " 3.020963959559891,\n",
       " 3.714567082545148,\n",
       " 4.171537475114597,\n",
       " 4.836801348948259,\n",
       " 5.018172543518459,\n",
       " 5.327070359270831,\n",
       " 7.54532508661183,\n",
       " 9.446888704683769]"
      ]
     },
     "execution_count": 56,
     "metadata": {},
     "output_type": "execute_result"
    }
   ],
   "source": [
    "fish = counts.sum()\n",
    "rates = [x/fish*100 for x in counts]\n",
    "rates[-10:]"
   ]
  },
  {
   "cell_type": "code",
   "execution_count": 57,
   "metadata": {},
   "outputs": [
    {
     "data": {
      "text/html": [
       "<div>\n",
       "<style scoped>\n",
       "    .dataframe tbody tr th:only-of-type {\n",
       "        vertical-align: middle;\n",
       "    }\n",
       "\n",
       "    .dataframe tbody tr th {\n",
       "        vertical-align: top;\n",
       "    }\n",
       "\n",
       "    .dataframe thead th {\n",
       "        text-align: right;\n",
       "    }\n",
       "</style>\n",
       "<table border=\"1\" class=\"dataframe\">\n",
       "  <thead>\n",
       "    <tr style=\"text-align: right;\">\n",
       "      <th></th>\n",
       "      <th>AREA_X</th>\n",
       "      <th>MODE_FX</th>\n",
       "      <th>SUB_REG</th>\n",
       "      <th>common</th>\n",
       "      <th>AREA</th>\n",
       "      <th>BOAT_HRS</th>\n",
       "      <th>CNTRBTRS</th>\n",
       "      <th>FFDAYS12</th>\n",
       "      <th>month</th>\n",
       "      <th>counts</th>\n",
       "    </tr>\n",
       "  </thead>\n",
       "  <tbody>\n",
       "    <tr>\n",
       "      <th>0</th>\n",
       "      <td>5</td>\n",
       "      <td>3</td>\n",
       "      <td>4</td>\n",
       "      <td>ATLANTIC SILVERSIDE</td>\n",
       "      <td>C</td>\n",
       "      <td>NaN</td>\n",
       "      <td>1.0</td>\n",
       "      <td>100.0</td>\n",
       "      <td>9</td>\n",
       "      <td>13</td>\n",
       "    </tr>\n",
       "    <tr>\n",
       "      <th>1</th>\n",
       "      <td>5</td>\n",
       "      <td>3</td>\n",
       "      <td>5</td>\n",
       "      <td>ATLANTIC SILVERSIDE</td>\n",
       "      <td>4</td>\n",
       "      <td>NaN</td>\n",
       "      <td>1.0</td>\n",
       "      <td>12.0</td>\n",
       "      <td>9</td>\n",
       "      <td>13</td>\n",
       "    </tr>\n",
       "    <tr>\n",
       "      <th>2</th>\n",
       "      <td>5</td>\n",
       "      <td>3</td>\n",
       "      <td>5</td>\n",
       "      <td>ATLANTIC SILVERSIDE</td>\n",
       "      <td>F</td>\n",
       "      <td>NaN</td>\n",
       "      <td>1.0</td>\n",
       "      <td>85.0</td>\n",
       "      <td>9</td>\n",
       "      <td>13</td>\n",
       "    </tr>\n",
       "    <tr>\n",
       "      <th>3</th>\n",
       "      <td>5</td>\n",
       "      <td>3</td>\n",
       "      <td>5</td>\n",
       "      <td>ATLANTIC SILVERSIDE</td>\n",
       "      <td>D</td>\n",
       "      <td>NaN</td>\n",
       "      <td>1.0</td>\n",
       "      <td>12.0</td>\n",
       "      <td>9</td>\n",
       "      <td>13</td>\n",
       "    </tr>\n",
       "    <tr>\n",
       "      <th>4</th>\n",
       "      <td>5</td>\n",
       "      <td>3</td>\n",
       "      <td>5</td>\n",
       "      <td>ATLANTIC SILVERSIDE</td>\n",
       "      <td>D</td>\n",
       "      <td>NaN</td>\n",
       "      <td>1.0</td>\n",
       "      <td>0.0</td>\n",
       "      <td>9</td>\n",
       "      <td>13</td>\n",
       "    </tr>\n",
       "  </tbody>\n",
       "</table>\n",
       "</div>"
      ],
      "text/plain": [
       "   AREA_X  MODE_FX  SUB_REG               common AREA  BOAT_HRS  CNTRBTRS  \\\n",
       "0       5        3        4  ATLANTIC SILVERSIDE    C       NaN       1.0   \n",
       "1       5        3        5  ATLANTIC SILVERSIDE    4       NaN       1.0   \n",
       "2       5        3        5  ATLANTIC SILVERSIDE    F       NaN       1.0   \n",
       "3       5        3        5  ATLANTIC SILVERSIDE    D       NaN       1.0   \n",
       "4       5        3        5  ATLANTIC SILVERSIDE    D       NaN       1.0   \n",
       "\n",
       "   FFDAYS12  month  counts  \n",
       "0     100.0      9      13  \n",
       "1      12.0      9      13  \n",
       "2      85.0      9      13  \n",
       "3      12.0      9      13  \n",
       "4       0.0      9      13  "
      ]
     },
     "execution_count": 57,
     "metadata": {},
     "output_type": "execute_result"
    }
   ],
   "source": [
    "# Here, we make a separate column that countains the count for each species. Then we drop those that are too low.\n",
    "df_count = pd.DataFrame()\n",
    "df_count['counts'] = counts\n",
    "df_count['common'] = counts.index\n",
    "totals = pd.merge(data, df_count, how=\"inner\")\n",
    "totals.head()\n",
    "#df_count.head()"
   ]
  },
  {
   "cell_type": "code",
   "execution_count": 58,
   "metadata": {},
   "outputs": [
    {
     "name": "stderr",
     "output_type": "stream",
     "text": [
      "/home/lubuntu/anaconda3/envs/project/lib/python3.6/site-packages/ipykernel_launcher.py:3: SettingWithCopyWarning: \n",
      "A value is trying to be set on a copy of a slice from a DataFrame\n",
      "\n",
      "See the caveats in the documentation: http://pandas.pydata.org/pandas-docs/stable/indexing.html#indexing-view-versus-copy\n",
      "  This is separate from the ipykernel package so we can avoid doing imports until\n"
     ]
    }
   ],
   "source": [
    "#Here, we change the values for 'common' to be 'OTHER' if there are less than 500 of that species\n",
    "# totals['COMMON_CND'][totals['counts']>= 500] = \n",
    "totals['common'][totals['counts'] < 100] = 'OTHER'"
   ]
  },
  {
   "cell_type": "code",
   "execution_count": 59,
   "metadata": {},
   "outputs": [
    {
     "data": {
      "text/html": [
       "<div>\n",
       "<style scoped>\n",
       "    .dataframe tbody tr th:only-of-type {\n",
       "        vertical-align: middle;\n",
       "    }\n",
       "\n",
       "    .dataframe tbody tr th {\n",
       "        vertical-align: top;\n",
       "    }\n",
       "\n",
       "    .dataframe thead th {\n",
       "        text-align: right;\n",
       "    }\n",
       "</style>\n",
       "<table border=\"1\" class=\"dataframe\">\n",
       "  <thead>\n",
       "    <tr style=\"text-align: right;\">\n",
       "      <th></th>\n",
       "      <th>AREA_X</th>\n",
       "      <th>MODE_FX</th>\n",
       "      <th>SUB_REG</th>\n",
       "      <th>common</th>\n",
       "      <th>AREA</th>\n",
       "      <th>BOAT_HRS</th>\n",
       "      <th>CNTRBTRS</th>\n",
       "      <th>FFDAYS12</th>\n",
       "      <th>month</th>\n",
       "      <th>counts</th>\n",
       "    </tr>\n",
       "  </thead>\n",
       "  <tbody>\n",
       "    <tr>\n",
       "      <th>0</th>\n",
       "      <td>5</td>\n",
       "      <td>3</td>\n",
       "      <td>4</td>\n",
       "      <td>OTHER</td>\n",
       "      <td>C</td>\n",
       "      <td>NaN</td>\n",
       "      <td>1.0</td>\n",
       "      <td>100.0</td>\n",
       "      <td>9</td>\n",
       "      <td>13</td>\n",
       "    </tr>\n",
       "    <tr>\n",
       "      <th>1</th>\n",
       "      <td>5</td>\n",
       "      <td>3</td>\n",
       "      <td>5</td>\n",
       "      <td>OTHER</td>\n",
       "      <td>4</td>\n",
       "      <td>NaN</td>\n",
       "      <td>1.0</td>\n",
       "      <td>12.0</td>\n",
       "      <td>9</td>\n",
       "      <td>13</td>\n",
       "    </tr>\n",
       "    <tr>\n",
       "      <th>2</th>\n",
       "      <td>5</td>\n",
       "      <td>3</td>\n",
       "      <td>5</td>\n",
       "      <td>OTHER</td>\n",
       "      <td>F</td>\n",
       "      <td>NaN</td>\n",
       "      <td>1.0</td>\n",
       "      <td>85.0</td>\n",
       "      <td>9</td>\n",
       "      <td>13</td>\n",
       "    </tr>\n",
       "    <tr>\n",
       "      <th>3</th>\n",
       "      <td>5</td>\n",
       "      <td>3</td>\n",
       "      <td>5</td>\n",
       "      <td>OTHER</td>\n",
       "      <td>D</td>\n",
       "      <td>NaN</td>\n",
       "      <td>1.0</td>\n",
       "      <td>12.0</td>\n",
       "      <td>9</td>\n",
       "      <td>13</td>\n",
       "    </tr>\n",
       "    <tr>\n",
       "      <th>4</th>\n",
       "      <td>5</td>\n",
       "      <td>3</td>\n",
       "      <td>5</td>\n",
       "      <td>OTHER</td>\n",
       "      <td>D</td>\n",
       "      <td>NaN</td>\n",
       "      <td>1.0</td>\n",
       "      <td>0.0</td>\n",
       "      <td>9</td>\n",
       "      <td>13</td>\n",
       "    </tr>\n",
       "  </tbody>\n",
       "</table>\n",
       "</div>"
      ],
      "text/plain": [
       "   AREA_X  MODE_FX  SUB_REG common AREA  BOAT_HRS  CNTRBTRS  FFDAYS12  month  \\\n",
       "0       5        3        4  OTHER    C       NaN       1.0     100.0      9   \n",
       "1       5        3        5  OTHER    4       NaN       1.0      12.0      9   \n",
       "2       5        3        5  OTHER    F       NaN       1.0      85.0      9   \n",
       "3       5        3        5  OTHER    D       NaN       1.0      12.0      9   \n",
       "4       5        3        5  OTHER    D       NaN       1.0       0.0      9   \n",
       "\n",
       "   counts  \n",
       "0      13  \n",
       "1      13  \n",
       "2      13  \n",
       "3      13  \n",
       "4      13  "
      ]
     },
     "execution_count": 59,
     "metadata": {},
     "output_type": "execute_result"
    }
   ],
   "source": [
    "#Look at a couple of different sections to see if the above operation did its job properly.\n",
    "totals.loc[1000:1050]\n",
    "totals.head()"
   ]
  },
  {
   "cell_type": "code",
   "execution_count": 60,
   "metadata": {},
   "outputs": [
    {
     "data": {
      "text/plain": [
       "<matplotlib.axes._subplots.AxesSubplot at 0x7f3bce7889b0>"
      ]
     },
     "execution_count": 60,
     "metadata": {},
     "output_type": "execute_result"
    },
    {
     "data": {
      "image/png": "[encoded data removed]",
      "text/plain": [
       "<Figure size 432x288 with 1 Axes>"
      ]
     },
     "metadata": {
      "needs_background": "light"
     },
     "output_type": "display_data"
    }
   ],
   "source": [
    "#Let's take a look and see where the new \"other\" category falls\n",
    "counts = totals['common'].value_counts()\n",
    "counts.sort_values(inplace=True)\n",
    "\n",
    "counts[-20:].plot(kind='bar')"
   ]
  },
  {
   "cell_type": "code",
   "execution_count": 61,
   "metadata": {},
   "outputs": [
    {
     "data": {
      "text/plain": [
       "90"
      ]
     },
     "execution_count": 61,
     "metadata": {},
     "output_type": "execute_result"
    }
   ],
   "source": [
    "#we can see how many species we are working with now\n",
    "len(counts)"
   ]
  },
  {
   "cell_type": "markdown",
   "metadata": {},
   "source": [
    "## Data Pre-processing"
   ]
  },
  {
   "cell_type": "code",
   "execution_count": 62,
   "metadata": {},
   "outputs": [],
   "source": [
    "# Make the categorical variables that are represented by numbers into 'category' datatypes, not int/floats"
   ]
  },
  {
   "cell_type": "code",
   "execution_count": 63,
   "metadata": {},
   "outputs": [],
   "source": [
    "cats=['SUB_REG', 'AREA', 'AREA_X', 'MODE_FX', 'month','common']\n",
    "\n",
    "for item in cats:\n",
    "    totals[item]=totals[item].astype('category')"
   ]
  },
  {
   "cell_type": "code",
   "execution_count": 64,
   "metadata": {},
   "outputs": [
    {
     "data": {
      "text/plain": [
       "AREA_X      category\n",
       "MODE_FX     category\n",
       "SUB_REG     category\n",
       "common      category\n",
       "AREA        category\n",
       "BOAT_HRS     float64\n",
       "CNTRBTRS     float64\n",
       "FFDAYS12     float64\n",
       "month       category\n",
       "counts         int64\n",
       "dtype: object"
      ]
     },
     "execution_count": 64,
     "metadata": {},
     "output_type": "execute_result"
    }
   ],
   "source": [
    "totals.dtypes"
   ]
  },
  {
   "cell_type": "code",
   "execution_count": 65,
   "metadata": {},
   "outputs": [],
   "source": [
    "#the 'counts' column we created doesn't really belong there and will mirror other data we have\n",
    "totals.drop(columns=['counts'], inplace=True)"
   ]
  },
  {
   "cell_type": "code",
   "execution_count": 66,
   "metadata": {},
   "outputs": [],
   "source": [
    "#our variable names are getting pretty messy - let's rename 'data' to be the current working dataframe\n",
    "#which is called 'totals' right now.\n",
    "\n",
    "data = totals.copy()"
   ]
  },
  {
   "cell_type": "code",
   "execution_count": 67,
   "metadata": {},
   "outputs": [
    {
     "data": {
      "text/html": [
       "<div>\n",
       "<style scoped>\n",
       "    .dataframe tbody tr th:only-of-type {\n",
       "        vertical-align: middle;\n",
       "    }\n",
       "\n",
       "    .dataframe tbody tr th {\n",
       "        vertical-align: top;\n",
       "    }\n",
       "\n",
       "    .dataframe thead th {\n",
       "        text-align: right;\n",
       "    }\n",
       "</style>\n",
       "<table border=\"1\" class=\"dataframe\">\n",
       "  <thead>\n",
       "    <tr style=\"text-align: right;\">\n",
       "      <th></th>\n",
       "      <th>AREA_X</th>\n",
       "      <th>MODE_FX</th>\n",
       "      <th>SUB_REG</th>\n",
       "      <th>common</th>\n",
       "      <th>AREA</th>\n",
       "      <th>BOAT_HRS</th>\n",
       "      <th>CNTRBTRS</th>\n",
       "      <th>FFDAYS12</th>\n",
       "      <th>month</th>\n",
       "    </tr>\n",
       "  </thead>\n",
       "  <tbody>\n",
       "    <tr>\n",
       "      <th>0</th>\n",
       "      <td>5</td>\n",
       "      <td>3</td>\n",
       "      <td>4</td>\n",
       "      <td>OTHER</td>\n",
       "      <td>C</td>\n",
       "      <td>NaN</td>\n",
       "      <td>1.0</td>\n",
       "      <td>100.0</td>\n",
       "      <td>9</td>\n",
       "    </tr>\n",
       "    <tr>\n",
       "      <th>1</th>\n",
       "      <td>5</td>\n",
       "      <td>3</td>\n",
       "      <td>5</td>\n",
       "      <td>OTHER</td>\n",
       "      <td>4</td>\n",
       "      <td>NaN</td>\n",
       "      <td>1.0</td>\n",
       "      <td>12.0</td>\n",
       "      <td>9</td>\n",
       "    </tr>\n",
       "    <tr>\n",
       "      <th>2</th>\n",
       "      <td>5</td>\n",
       "      <td>3</td>\n",
       "      <td>5</td>\n",
       "      <td>OTHER</td>\n",
       "      <td>F</td>\n",
       "      <td>NaN</td>\n",
       "      <td>1.0</td>\n",
       "      <td>85.0</td>\n",
       "      <td>9</td>\n",
       "    </tr>\n",
       "    <tr>\n",
       "      <th>3</th>\n",
       "      <td>5</td>\n",
       "      <td>3</td>\n",
       "      <td>5</td>\n",
       "      <td>OTHER</td>\n",
       "      <td>D</td>\n",
       "      <td>NaN</td>\n",
       "      <td>1.0</td>\n",
       "      <td>12.0</td>\n",
       "      <td>9</td>\n",
       "    </tr>\n",
       "    <tr>\n",
       "      <th>4</th>\n",
       "      <td>5</td>\n",
       "      <td>3</td>\n",
       "      <td>5</td>\n",
       "      <td>OTHER</td>\n",
       "      <td>D</td>\n",
       "      <td>NaN</td>\n",
       "      <td>1.0</td>\n",
       "      <td>0.0</td>\n",
       "      <td>9</td>\n",
       "    </tr>\n",
       "  </tbody>\n",
       "</table>\n",
       "</div>"
      ],
      "text/plain": [
       "  AREA_X MODE_FX SUB_REG common AREA  BOAT_HRS  CNTRBTRS  FFDAYS12 month\n",
       "0      5       3       4  OTHER    C       NaN       1.0     100.0     9\n",
       "1      5       3       5  OTHER    4       NaN       1.0      12.0     9\n",
       "2      5       3       5  OTHER    F       NaN       1.0      85.0     9\n",
       "3      5       3       5  OTHER    D       NaN       1.0      12.0     9\n",
       "4      5       3       5  OTHER    D       NaN       1.0       0.0     9"
      ]
     },
     "execution_count": 67,
     "metadata": {},
     "output_type": "execute_result"
    }
   ],
   "source": [
    "data.head()"
   ]
  },
  {
   "cell_type": "code",
   "execution_count": 68,
   "metadata": {},
   "outputs": [],
   "source": [
    "y = data['common']\n",
    "data.drop(columns=['common'], inplace=True)"
   ]
  },
  {
   "cell_type": "code",
   "execution_count": 69,
   "metadata": {},
   "outputs": [
    {
     "data": {
      "text/plain": [
       "AREA_X      category\n",
       "MODE_FX     category\n",
       "SUB_REG     category\n",
       "AREA        category\n",
       "BOAT_HRS     float64\n",
       "CNTRBTRS     float64\n",
       "FFDAYS12     float64\n",
       "month       category\n",
       "dtype: object"
      ]
     },
     "execution_count": 69,
     "metadata": {},
     "output_type": "execute_result"
    }
   ],
   "source": [
    "data.dtypes"
   ]
  },
  {
   "cell_type": "code",
   "execution_count": 70,
   "metadata": {},
   "outputs": [],
   "source": [
    "# fill the BOAT_HRS column with the median\n",
    "data.BOAT_HRS.fillna(value=data.BOAT_HRS.median(),inplace=True)"
   ]
  },
  {
   "cell_type": "code",
   "execution_count": 71,
   "metadata": {},
   "outputs": [
    {
     "data": {
      "text/plain": [
       "array([4, 0, 1, 2, 3])"
      ]
     },
     "execution_count": 71,
     "metadata": {},
     "output_type": "execute_result"
    }
   ],
   "source": [
    "data.AREA_X.cat.codes.unique()"
   ]
  },
  {
   "cell_type": "code",
   "execution_count": 72,
   "metadata": {},
   "outputs": [],
   "source": [
    "# turn the categories into their codes\n",
    "df = pd.DataFrame()\n",
    "for x in data:\n",
    "    try:\n",
    "        df[x]=data[x].cat.codes\n",
    "    except:\n",
    "        df[x]=data[x]"
   ]
  },
  {
   "cell_type": "markdown",
   "metadata": {},
   "source": [
    "# Train the model"
   ]
  },
  {
   "cell_type": "code",
   "execution_count": 73,
   "metadata": {},
   "outputs": [
    {
     "name": "stdout",
     "output_type": "stream",
     "text": [
      "CPU times: user 13.2 s, sys: 1.39 s, total: 14.6 s\n",
      "Wall time: 8.58 s\n"
     ]
    },
    {
     "data": {
      "text/plain": [
       "RandomForestClassifier(bootstrap=True, class_weight=None, criterion='gini',\n",
       "            max_depth=None, max_features=0.6, max_leaf_nodes=None,\n",
       "            min_impurity_decrease=0.0, min_impurity_split=None,\n",
       "            min_samples_leaf=10, min_samples_split=2,\n",
       "            min_weight_fraction_leaf=0.0, n_estimators=30, n_jobs=-1,\n",
       "            oob_score=True, random_state=None, verbose=0, warm_start=False)"
      ]
     },
     "execution_count": 73,
     "metadata": {},
     "output_type": "execute_result"
    }
   ],
   "source": [
    "m = RandomForestClassifier(oob_score=True, n_jobs=-1, n_estimators=30, max_features=.6,\n",
    "                           min_samples_leaf=10)\n",
    "%time m.fit(df, y)\n"
   ]
  },
  {
   "cell_type": "markdown",
   "metadata": {},
   "source": [
    "### Evaluate the model"
   ]
  },
  {
   "cell_type": "code",
   "execution_count": 74,
   "metadata": {},
   "outputs": [
    {
     "data": {
      "text/plain": [
       "0.5997718690443297"
      ]
     },
     "execution_count": 74,
     "metadata": {},
     "output_type": "execute_result"
    }
   ],
   "source": [
    "m.oob_score_"
   ]
  },
  {
   "cell_type": "code",
   "execution_count": 75,
   "metadata": {},
   "outputs": [
    {
     "data": {
      "text/plain": [
       "90"
      ]
     },
     "execution_count": 75,
     "metadata": {},
     "output_type": "execute_result"
    }
   ],
   "source": [
    "m.n_classes_"
   ]
  },
  {
   "cell_type": "code",
   "execution_count": 76,
   "metadata": {},
   "outputs": [],
   "source": [
    "# import pickle \n",
    "\n",
    "# with open('fat_model.pkl','wb') as pickle_file:\n",
    "#     pickle.dump(m, pickle_file)"
   ]
  },
  {
   "cell_type": "code",
   "execution_count": 77,
   "metadata": {},
   "outputs": [
    {
     "data": {
      "text/plain": [
       "array([0.07552168, 0.09186386, 0.12265958, 0.12335546, 0.14571335,\n",
       "       0.09268166, 0.15890911, 0.18929531])"
      ]
     },
     "execution_count": 77,
     "metadata": {},
     "output_type": "execute_result"
    }
   ],
   "source": [
    "m.feature_importances_"
   ]
  },
  {
   "cell_type": "code",
   "execution_count": 78,
   "metadata": {},
   "outputs": [
    {
     "data": {
      "image/png": "[encoded data removed]",
      "text/plain": [
       "<Figure size 288x128.16 with 1 Axes>"
      ]
     },
     "metadata": {
      "needs_background": "light"
     },
     "output_type": "display_data"
    }
   ],
   "source": [
    "imp = importances(m, df, y, n_samples=-1)\n",
    "viz = plot_importances(imp)\n",
    "viz.view()"
   ]
  },
  {
   "cell_type": "markdown",
   "metadata": {},
   "source": [
    "# Test the model predicting one input"
   ]
  },
  {
   "cell_type": "markdown",
   "metadata": {},
   "source": [
    "We want to be able to get a user input and predict the most likely classes of fish. Let's test to see if we can give a single set of input variables and make that prediction"
   ]
  },
  {
   "cell_type": "code",
   "execution_count": 79,
   "metadata": {},
   "outputs": [
    {
     "name": "stderr",
     "output_type": "stream",
     "text": [
      "/home/lubuntu/anaconda3/envs/project/lib/python3.6/site-packages/ipykernel_launcher.py:1: FutureWarning: Method .as_matrix will be removed in a future version. Use .values instead.\n",
      "  \"\"\"Entry point for launching an IPython kernel.\n"
     ]
    },
    {
     "data": {
      "text/plain": [
       "array(['BLUEFISH'], dtype=object)"
      ]
     },
     "execution_count": 79,
     "metadata": {},
     "output_type": "execute_result"
    }
   ],
   "source": [
    "array = df.loc[0].as_matrix()\n",
    "test = array.reshape(1,-1)\n",
    "m.predict(test)"
   ]
  },
  {
   "cell_type": "code",
   "execution_count": 80,
   "metadata": {},
   "outputs": [
    {
     "data": {
      "text/plain": [
       "array([[0.00000000e+00, 0.00000000e+00, 0.00000000e+00, 0.00000000e+00,\n",
       "        0.00000000e+00, 5.18379707e-03, 1.75930886e-02, 8.91287369e-02,\n",
       "        0.00000000e+00, 0.00000000e+00, 0.00000000e+00, 0.00000000e+00,\n",
       "        0.00000000e+00, 0.00000000e+00, 6.90867468e-04, 0.00000000e+00,\n",
       "        0.00000000e+00, 0.00000000e+00, 5.83415421e-01, 0.00000000e+00,\n",
       "        0.00000000e+00, 0.00000000e+00, 0.00000000e+00, 2.10195539e-04,\n",
       "        0.00000000e+00, 0.00000000e+00, 0.00000000e+00, 0.00000000e+00,\n",
       "        0.00000000e+00, 0.00000000e+00, 0.00000000e+00, 0.00000000e+00,\n",
       "        0.00000000e+00, 0.00000000e+00, 0.00000000e+00, 0.00000000e+00,\n",
       "        0.00000000e+00, 0.00000000e+00, 0.00000000e+00, 0.00000000e+00,\n",
       "        0.00000000e+00, 0.00000000e+00, 0.00000000e+00, 0.00000000e+00,\n",
       "        0.00000000e+00, 0.00000000e+00, 0.00000000e+00, 0.00000000e+00,\n",
       "        7.35835173e-05, 0.00000000e+00, 4.75125552e-02, 0.00000000e+00,\n",
       "        0.00000000e+00, 0.00000000e+00, 0.00000000e+00, 0.00000000e+00,\n",
       "        0.00000000e+00, 0.00000000e+00, 0.00000000e+00, 0.00000000e+00,\n",
       "        0.00000000e+00, 0.00000000e+00, 0.00000000e+00, 2.16934619e-01,\n",
       "        0.00000000e+00, 0.00000000e+00, 0.00000000e+00, 0.00000000e+00,\n",
       "        0.00000000e+00, 0.00000000e+00, 0.00000000e+00, 0.00000000e+00,\n",
       "        0.00000000e+00, 0.00000000e+00, 0.00000000e+00, 1.38828515e-02,\n",
       "        0.00000000e+00, 3.27891004e-03, 1.66474841e-03, 1.71579064e-02,\n",
       "        0.00000000e+00, 0.00000000e+00, 0.00000000e+00, 0.00000000e+00,\n",
       "        0.00000000e+00, 0.00000000e+00, 3.27271999e-03, 0.00000000e+00,\n",
       "        0.00000000e+00, 0.00000000e+00]])"
      ]
     },
     "execution_count": 80,
     "metadata": {},
     "output_type": "execute_result"
    }
   ],
   "source": [
    "m.predict_proba(test)"
   ]
  },
  {
   "cell_type": "code",
   "execution_count": 82,
   "metadata": {},
   "outputs": [
    {
     "data": {
      "text/html": [
       "<div>\n",
       "<style scoped>\n",
       "    .dataframe tbody tr th:only-of-type {\n",
       "        vertical-align: middle;\n",
       "    }\n",
       "\n",
       "    .dataframe tbody tr th {\n",
       "        vertical-align: top;\n",
       "    }\n",
       "\n",
       "    .dataframe thead th {\n",
       "        text-align: right;\n",
       "    }\n",
       "</style>\n",
       "<table border=\"1\" class=\"dataframe\">\n",
       "  <thead>\n",
       "    <tr style=\"text-align: right;\">\n",
       "      <th></th>\n",
       "      <th>likelihood</th>\n",
       "      <th>name</th>\n",
       "    </tr>\n",
       "  </thead>\n",
       "  <tbody>\n",
       "    <tr>\n",
       "      <th>0</th>\n",
       "      <td>0.0</td>\n",
       "      <td>ACADIAN REDFISH</td>\n",
       "    </tr>\n",
       "    <tr>\n",
       "      <th>1</th>\n",
       "      <td>0.0</td>\n",
       "      <td>ALMACO JACK</td>\n",
       "    </tr>\n",
       "    <tr>\n",
       "      <th>2</th>\n",
       "      <td>0.0</td>\n",
       "      <td>ATLANTIC BUMPER</td>\n",
       "    </tr>\n",
       "    <tr>\n",
       "      <th>3</th>\n",
       "      <td>0.0</td>\n",
       "      <td>ATLANTIC COD</td>\n",
       "    </tr>\n",
       "    <tr>\n",
       "      <th>4</th>\n",
       "      <td>0.0</td>\n",
       "      <td>ATLANTIC CROAKER</td>\n",
       "    </tr>\n",
       "  </tbody>\n",
       "</table>\n",
       "</div>"
      ],
      "text/plain": [
       "   likelihood              name\n",
       "0         0.0   ACADIAN REDFISH\n",
       "1         0.0       ALMACO JACK\n",
       "2         0.0   ATLANTIC BUMPER\n",
       "3         0.0      ATLANTIC COD\n",
       "4         0.0  ATLANTIC CROAKER"
      ]
     },
     "execution_count": 82,
     "metadata": {},
     "output_type": "execute_result"
    }
   ],
   "source": [
    "preds = pd.DataFrame()\n",
    "#preds['common']=y.unique().sort_values(ascending=False)\n",
    "preds['likelihood']= m.predict_proba(test)[0]\n",
    "preds['name']=m.classes_\n",
    "preds.head()"
   ]
  },
  {
   "cell_type": "code",
   "execution_count": 83,
   "metadata": {},
   "outputs": [],
   "source": [
    "tops = preds.sort_values(by='likelihood', ascending=False)"
   ]
  },
  {
   "cell_type": "code",
   "execution_count": 84,
   "metadata": {},
   "outputs": [
    {
     "name": "stdout",
     "output_type": "stream",
     "text": [
      "    likelihood               name\n",
      "18    0.583415           BLUEFISH\n",
      "63    0.216935               SCUP\n",
      "7     0.089129  ATLANTIC MENHADEN\n"
     ]
    }
   ],
   "source": [
    "print(tops.head(3))"
   ]
  }
 ],
 "metadata": {
  "kernelspec": {
   "display_name": "Python 3",
   "language": "python",
   "name": "python3"
  },
  "language_info": {
   "codemirror_mode": {
    "name": "ipython",
    "version": 3
   },
   "file_extension": ".py",
   "mimetype": "text/x-python",
   "name": "python",
   "nbconvert_exporter": "python",
   "pygments_lexer": "ipython3",
   "version": "3.6.3"
  }
 },
 "nbformat": 4,
 "nbformat_minor": 2
}
